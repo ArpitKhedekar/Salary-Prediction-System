{
 "cells": [
  {
   "cell_type": "markdown",
   "id": "d7b1baa6",
   "metadata": {},
   "source": [
    "# Salary Prediction Model\n"
   ]
  },
  {
   "cell_type": "markdown",
   "id": "d2503203",
   "metadata": {},
   "source": [
    "The objective is to conduct a comprehensive analysis of a salary prediction case study, encompassing data exploration, visualization, model training, and evaluation.The project also aims to build an accurate predictive model for salary based on diverse features given in the dataset."
   ]
  },
  {
   "cell_type": "markdown",
   "id": "58a7b24a",
   "metadata": {},
   "source": [
    "## Importing the necessary Libraries"
   ]
  },
  {
   "cell_type": "code",
   "execution_count": 2,
   "id": "8a758e61",
   "metadata": {},
   "outputs": [],
   "source": [
    "import pandas as pd\n",
    "import numpy as np\n",
    "import seaborn as sns\n",
    "import matplotlib.pyplot as plt\n",
    "import statsmodels.api as sm\n",
    "from scipy.stats.mstats import winsorize\n",
    "from sklearn.model_selection import train_test_split\n",
    "from sklearn.linear_model import Ridge, Lasso, LinearRegression\n",
    "from sklearn.tree import DecisionTreeRegressor\n",
    "from sklearn.neighbors import KNeighborsRegressor\n",
    "from sklearn.ensemble import RandomForestRegressor, GradientBoostingRegressor, AdaBoostRegressor\n",
    "from sklearn.svm import SVR\n",
    "from sklearn.metrics import r2_score, mean_squared_error, mean_absolute_error\n",
    "from sklearn.model_selection import GridSearchCV"
   ]
  },
  {
   "cell_type": "markdown",
   "id": "1868e6d7",
   "metadata": {},
   "source": [
    "Importing necessary libraries for data manipulation, visualization, and machine learning. These include Pandas for data handling, NumPy for numerical operations, Seaborn and Matplotlib for visualization, Statsmodels for statistical models, Winsorize from SciPy for outlier handling, and various regression algorithms from scikit-learn. GridSearchCV is imported for hyperparameter tuning.\n",
    "\n",
    "\n",
    "\n",
    "\n",
    "\n"
   ]
  },
  {
   "cell_type": "markdown",
   "id": "632dede6",
   "metadata": {},
   "source": [
    "## Data Exploration"
   ]
  },
  {
   "cell_type": "markdown",
   "id": "6f6584c7",
   "metadata": {},
   "source": [
    "#### Loading the Datasets"
   ]
  },
  {
   "cell_type": "markdown",
   "id": "7cddefe9",
   "metadata": {},
   "source": [
    "I first dowloaded the given csv files and uploaded them in my folder where this Jupyter Notebook is present.I'll be reading all three CSV files (\"ML case Study.csv\", \"Colleges.csv\", and \"cities.csv\") into Pandas DataFrames: df for the main dataset, colleges_df for college-related data, and city_df for city-related data. The parameter header=0 indicates that the first row contains column headers."
   ]
  },
  {
   "cell_type": "code",
   "execution_count": 3,
   "id": "c412371f",
   "metadata": {},
   "outputs": [],
   "source": [
    "df = pd.read_csv(\"ML case Study.csv\", header =0)\n",
    "colleges_df = pd.read_csv(\"Colleges.csv\", header =0)\n",
    "city_df = pd.read_csv(\"cities.csv\", header =0)"
   ]
  },
  {
   "cell_type": "markdown",
   "id": "c5c009e3",
   "metadata": {},
   "source": [
    "let's see how our datasets are individually"
   ]
  },
  {
   "cell_type": "code",
   "execution_count": 5,
   "id": "9c3953e7",
   "metadata": {},
   "outputs": [
    {
     "data": {
      "text/html": [
       "<div>\n",
       "<style scoped>\n",
       "    .dataframe tbody tr th:only-of-type {\n",
       "        vertical-align: middle;\n",
       "    }\n",
       "\n",
       "    .dataframe tbody tr th {\n",
       "        vertical-align: top;\n",
       "    }\n",
       "\n",
       "    .dataframe thead th {\n",
       "        text-align: right;\n",
       "    }\n",
       "</style>\n",
       "<table border=\"1\" class=\"dataframe\">\n",
       "  <thead>\n",
       "    <tr style=\"text-align: right;\">\n",
       "      <th></th>\n",
       "      <th>College</th>\n",
       "      <th>City</th>\n",
       "      <th>Role</th>\n",
       "      <th>Previous CTC</th>\n",
       "      <th>Previous job change</th>\n",
       "      <th>Graduation Marks</th>\n",
       "      <th>EXP (Month)</th>\n",
       "      <th>CTC</th>\n",
       "    </tr>\n",
       "  </thead>\n",
       "  <tbody>\n",
       "    <tr>\n",
       "      <th>0</th>\n",
       "      <td>SVNIT Surat</td>\n",
       "      <td>Asansol</td>\n",
       "      <td>Manager</td>\n",
       "      <td>55523.0</td>\n",
       "      <td>3</td>\n",
       "      <td>66</td>\n",
       "      <td>19</td>\n",
       "      <td>71406.58</td>\n",
       "    </tr>\n",
       "    <tr>\n",
       "      <th>1</th>\n",
       "      <td>NIT Bhopal</td>\n",
       "      <td>Ajmer</td>\n",
       "      <td>Executive</td>\n",
       "      <td>57081.0</td>\n",
       "      <td>1</td>\n",
       "      <td>84</td>\n",
       "      <td>18</td>\n",
       "      <td>68005.87</td>\n",
       "    </tr>\n",
       "    <tr>\n",
       "      <th>2</th>\n",
       "      <td>IEM, Kolkata</td>\n",
       "      <td>Rajpur Sonarpur</td>\n",
       "      <td>Executive</td>\n",
       "      <td>60347.0</td>\n",
       "      <td>2</td>\n",
       "      <td>52</td>\n",
       "      <td>28</td>\n",
       "      <td>76764.02</td>\n",
       "    </tr>\n",
       "    <tr>\n",
       "      <th>3</th>\n",
       "      <td>KIIT, Bhubaneswar</td>\n",
       "      <td>Ajmer</td>\n",
       "      <td>Executive</td>\n",
       "      <td>49010.0</td>\n",
       "      <td>2</td>\n",
       "      <td>81</td>\n",
       "      <td>33</td>\n",
       "      <td>82092.39</td>\n",
       "    </tr>\n",
       "    <tr>\n",
       "      <th>4</th>\n",
       "      <td>DTU</td>\n",
       "      <td>Durgapur</td>\n",
       "      <td>Executive</td>\n",
       "      <td>57879.0</td>\n",
       "      <td>4</td>\n",
       "      <td>74</td>\n",
       "      <td>32</td>\n",
       "      <td>73878.10</td>\n",
       "    </tr>\n",
       "    <tr>\n",
       "      <th>...</th>\n",
       "      <td>...</td>\n",
       "      <td>...</td>\n",
       "      <td>...</td>\n",
       "      <td>...</td>\n",
       "      <td>...</td>\n",
       "      <td>...</td>\n",
       "      <td>...</td>\n",
       "      <td>...</td>\n",
       "    </tr>\n",
       "    <tr>\n",
       "      <th>1584</th>\n",
       "      <td>BITS Pilani (Goa Campus)</td>\n",
       "      <td>Surat</td>\n",
       "      <td>Executive</td>\n",
       "      <td>61285.0</td>\n",
       "      <td>3</td>\n",
       "      <td>44</td>\n",
       "      <td>60</td>\n",
       "      <td>77283.59</td>\n",
       "    </tr>\n",
       "    <tr>\n",
       "      <th>1585</th>\n",
       "      <td>NIT Warangal</td>\n",
       "      <td>Rajpur Sonarpur</td>\n",
       "      <td>Executive</td>\n",
       "      <td>63140.0</td>\n",
       "      <td>1</td>\n",
       "      <td>44</td>\n",
       "      <td>24</td>\n",
       "      <td>68416.86</td>\n",
       "    </tr>\n",
       "    <tr>\n",
       "      <th>1586</th>\n",
       "      <td>NIT Tiruchipally (Trichy)</td>\n",
       "      <td>Ahmedabad</td>\n",
       "      <td>Executive</td>\n",
       "      <td>44907.0</td>\n",
       "      <td>1</td>\n",
       "      <td>60</td>\n",
       "      <td>19</td>\n",
       "      <td>70186.19</td>\n",
       "    </tr>\n",
       "    <tr>\n",
       "      <th>1587</th>\n",
       "      <td>IIIT Hyderabad</td>\n",
       "      <td>Durgapur</td>\n",
       "      <td>Executive</td>\n",
       "      <td>52054.0</td>\n",
       "      <td>2</td>\n",
       "      <td>67</td>\n",
       "      <td>29</td>\n",
       "      <td>73394.09</td>\n",
       "    </tr>\n",
       "    <tr>\n",
       "      <th>1588</th>\n",
       "      <td>R.V. College of Engineering</td>\n",
       "      <td>Delhi</td>\n",
       "      <td>Manager</td>\n",
       "      <td>44353.0</td>\n",
       "      <td>3</td>\n",
       "      <td>75</td>\n",
       "      <td>18</td>\n",
       "      <td>70056.31</td>\n",
       "    </tr>\n",
       "  </tbody>\n",
       "</table>\n",
       "<p>1589 rows × 8 columns</p>\n",
       "</div>"
      ],
      "text/plain": [
       "                          College             City       Role  Previous CTC  \\\n",
       "0                     SVNIT Surat          Asansol    Manager       55523.0   \n",
       "1                      NIT Bhopal            Ajmer  Executive       57081.0   \n",
       "2                    IEM, Kolkata  Rajpur Sonarpur  Executive       60347.0   \n",
       "3               KIIT, Bhubaneswar            Ajmer  Executive       49010.0   \n",
       "4                             DTU         Durgapur  Executive       57879.0   \n",
       "...                           ...              ...        ...           ...   \n",
       "1584     BITS Pilani (Goa Campus)            Surat  Executive       61285.0   \n",
       "1585                 NIT Warangal  Rajpur Sonarpur  Executive       63140.0   \n",
       "1586    NIT Tiruchipally (Trichy)        Ahmedabad  Executive       44907.0   \n",
       "1587               IIIT Hyderabad         Durgapur  Executive       52054.0   \n",
       "1588  R.V. College of Engineering            Delhi    Manager       44353.0   \n",
       "\n",
       "      Previous job change  Graduation Marks  EXP (Month)       CTC  \n",
       "0                       3                66           19  71406.58  \n",
       "1                       1                84           18  68005.87  \n",
       "2                       2                52           28  76764.02  \n",
       "3                       2                81           33  82092.39  \n",
       "4                       4                74           32  73878.10  \n",
       "...                   ...               ...          ...       ...  \n",
       "1584                    3                44           60  77283.59  \n",
       "1585                    1                44           24  68416.86  \n",
       "1586                    1                60           19  70186.19  \n",
       "1587                    2                67           29  73394.09  \n",
       "1588                    3                75           18  70056.31  \n",
       "\n",
       "[1589 rows x 8 columns]"
      ]
     },
     "execution_count": 5,
     "metadata": {},
     "output_type": "execute_result"
    }
   ],
   "source": [
    "df"
   ]
  },
  {
   "cell_type": "markdown",
   "id": "6f428ad2",
   "metadata": {},
   "source": [
    "## Data Preprocessing"
   ]
  },
  {
   "cell_type": "markdown",
   "id": "451d8431",
   "metadata": {},
   "source": [
    "#### Handling Missing values "
   ]
  },
  {
   "cell_type": "code",
   "execution_count": 6,
   "id": "2fc71764",
   "metadata": {},
   "outputs": [
    {
     "data": {
      "text/html": [
       "<div>\n",
       "<style scoped>\n",
       "    .dataframe tbody tr th:only-of-type {\n",
       "        vertical-align: middle;\n",
       "    }\n",
       "\n",
       "    .dataframe tbody tr th {\n",
       "        vertical-align: top;\n",
       "    }\n",
       "\n",
       "    .dataframe thead th {\n",
       "        text-align: right;\n",
       "    }\n",
       "</style>\n",
       "<table border=\"1\" class=\"dataframe\">\n",
       "  <thead>\n",
       "    <tr style=\"text-align: right;\">\n",
       "      <th></th>\n",
       "      <th>Tier 1</th>\n",
       "      <th>Tier 2</th>\n",
       "      <th>Tier 3</th>\n",
       "    </tr>\n",
       "  </thead>\n",
       "  <tbody>\n",
       "    <tr>\n",
       "      <th>0</th>\n",
       "      <td>IIT Bombay</td>\n",
       "      <td>IIIT Bangalore</td>\n",
       "      <td>Ramaiah Institute of Technology, Bengaluru</td>\n",
       "    </tr>\n",
       "    <tr>\n",
       "      <th>1</th>\n",
       "      <td>IIT Delhi</td>\n",
       "      <td>IIIT Delhi</td>\n",
       "      <td>TIET/Thapar University</td>\n",
       "    </tr>\n",
       "    <tr>\n",
       "      <th>2</th>\n",
       "      <td>IIT Kharagpur</td>\n",
       "      <td>IGDTUW</td>\n",
       "      <td>Manipal Main Campus</td>\n",
       "    </tr>\n",
       "    <tr>\n",
       "      <th>3</th>\n",
       "      <td>IIT Madras</td>\n",
       "      <td>NIT Calicut</td>\n",
       "      <td>VIT Vellore</td>\n",
       "    </tr>\n",
       "    <tr>\n",
       "      <th>4</th>\n",
       "      <td>IIT Kanpur</td>\n",
       "      <td>IIITM Gwalior</td>\n",
       "      <td>SRM Main Campus</td>\n",
       "    </tr>\n",
       "    <tr>\n",
       "      <th>5</th>\n",
       "      <td>IIT Roorkee</td>\n",
       "      <td>IIIT Lucknow</td>\n",
       "      <td>KIIT, Bhubaneswar</td>\n",
       "    </tr>\n",
       "    <tr>\n",
       "      <th>6</th>\n",
       "      <td>IIT Guwahati</td>\n",
       "      <td>MNNIT Allahabad</td>\n",
       "      <td>Amity University</td>\n",
       "    </tr>\n",
       "    <tr>\n",
       "      <th>7</th>\n",
       "      <td>IIIT Hyderabad</td>\n",
       "      <td>Punjab Engineering College</td>\n",
       "      <td>BMS College, Bangalore</td>\n",
       "    </tr>\n",
       "    <tr>\n",
       "      <th>8</th>\n",
       "      <td>BITS Pilani (Pilani Campus)</td>\n",
       "      <td>DAIICT</td>\n",
       "      <td>PES University, Bangalore</td>\n",
       "    </tr>\n",
       "    <tr>\n",
       "      <th>9</th>\n",
       "      <td>IIT Indore</td>\n",
       "      <td>MNIT Jaipur</td>\n",
       "      <td>USIT, Delhi</td>\n",
       "    </tr>\n",
       "    <tr>\n",
       "      <th>10</th>\n",
       "      <td>IIT Ropar</td>\n",
       "      <td>NIT Durgapur</td>\n",
       "      <td>MAIT, Delhi</td>\n",
       "    </tr>\n",
       "    <tr>\n",
       "      <th>11</th>\n",
       "      <td>IIT BHU (Varanasi)</td>\n",
       "      <td>VNIT Nagpur</td>\n",
       "      <td>MSIT, Delhi</td>\n",
       "    </tr>\n",
       "    <tr>\n",
       "      <th>12</th>\n",
       "      <td>IIT ISM Dhanbad</td>\n",
       "      <td>LNMIIT</td>\n",
       "      <td>Dayanand College of Engineering, Bangalore</td>\n",
       "    </tr>\n",
       "    <tr>\n",
       "      <th>13</th>\n",
       "      <td>DTU</td>\n",
       "      <td>BIT Mesra</td>\n",
       "      <td>Heritage Institute of Technology, Kolkata</td>\n",
       "    </tr>\n",
       "    <tr>\n",
       "      <th>14</th>\n",
       "      <td>NSUT Delhi (NSIT)</td>\n",
       "      <td>SVNIT Surat</td>\n",
       "      <td>IEM, Kolkata</td>\n",
       "    </tr>\n",
       "    <tr>\n",
       "      <th>15</th>\n",
       "      <td>NIT Tiruchipally (Trichy)</td>\n",
       "      <td>NIT Jalandhar</td>\n",
       "      <td>Techno India, Kolkata</td>\n",
       "    </tr>\n",
       "    <tr>\n",
       "      <th>16</th>\n",
       "      <td>NIT Warangal</td>\n",
       "      <td>NIT Jamshedpur</td>\n",
       "      <td>Jaypee, Noida</td>\n",
       "    </tr>\n",
       "    <tr>\n",
       "      <th>17</th>\n",
       "      <td>NIT Surathkal (Karnataka)</td>\n",
       "      <td>NIT Kurukshetra</td>\n",
       "      <td>Amrita University, Coimbatore</td>\n",
       "    </tr>\n",
       "    <tr>\n",
       "      <th>18</th>\n",
       "      <td>Jadavpur University</td>\n",
       "      <td>NIT Patna</td>\n",
       "      <td>Cummins College of Engineering for Women, Pune</td>\n",
       "    </tr>\n",
       "    <tr>\n",
       "      <th>19</th>\n",
       "      <td>BITS Pilani (Hyderabad Campus)</td>\n",
       "      <td>NIT Raipur</td>\n",
       "      <td>NaN</td>\n",
       "    </tr>\n",
       "    <tr>\n",
       "      <th>20</th>\n",
       "      <td>BITS Pilani (Goa Campus)</td>\n",
       "      <td>NIT Bhopal</td>\n",
       "      <td>NaN</td>\n",
       "    </tr>\n",
       "    <tr>\n",
       "      <th>21</th>\n",
       "      <td>IIIT Allahabad</td>\n",
       "      <td>NIT Rourkela</td>\n",
       "      <td>NaN</td>\n",
       "    </tr>\n",
       "    <tr>\n",
       "      <th>22</th>\n",
       "      <td>NaN</td>\n",
       "      <td>NIT Silchar</td>\n",
       "      <td>NaN</td>\n",
       "    </tr>\n",
       "    <tr>\n",
       "      <th>23</th>\n",
       "      <td>NaN</td>\n",
       "      <td>NIT Sikkim</td>\n",
       "      <td>NaN</td>\n",
       "    </tr>\n",
       "    <tr>\n",
       "      <th>24</th>\n",
       "      <td>NaN</td>\n",
       "      <td>IIIT Jabalpur</td>\n",
       "      <td>NaN</td>\n",
       "    </tr>\n",
       "    <tr>\n",
       "      <th>25</th>\n",
       "      <td>NaN</td>\n",
       "      <td>Jalpaiguri Government Engineering College</td>\n",
       "      <td>NaN</td>\n",
       "    </tr>\n",
       "    <tr>\n",
       "      <th>26</th>\n",
       "      <td>NaN</td>\n",
       "      <td>IIEST/BESU Shibpur</td>\n",
       "      <td>NaN</td>\n",
       "    </tr>\n",
       "    <tr>\n",
       "      <th>27</th>\n",
       "      <td>NaN</td>\n",
       "      <td>R.V. College of Engineering</td>\n",
       "      <td>NaN</td>\n",
       "    </tr>\n",
       "  </tbody>\n",
       "</table>\n",
       "</div>"
      ],
      "text/plain": [
       "                            Tier 1                                     Tier 2  \\\n",
       "0                       IIT Bombay                             IIIT Bangalore   \n",
       "1                        IIT Delhi                                 IIIT Delhi   \n",
       "2                    IIT Kharagpur                                     IGDTUW   \n",
       "3                       IIT Madras                                NIT Calicut   \n",
       "4                       IIT Kanpur                              IIITM Gwalior   \n",
       "5                      IIT Roorkee                               IIIT Lucknow   \n",
       "6                     IIT Guwahati                            MNNIT Allahabad   \n",
       "7                   IIIT Hyderabad                 Punjab Engineering College   \n",
       "8      BITS Pilani (Pilani Campus)                                     DAIICT   \n",
       "9                       IIT Indore                                MNIT Jaipur   \n",
       "10                       IIT Ropar                               NIT Durgapur   \n",
       "11              IIT BHU (Varanasi)                                VNIT Nagpur   \n",
       "12                 IIT ISM Dhanbad                                     LNMIIT   \n",
       "13                             DTU                                  BIT Mesra   \n",
       "14               NSUT Delhi (NSIT)                                SVNIT Surat   \n",
       "15       NIT Tiruchipally (Trichy)                              NIT Jalandhar   \n",
       "16                    NIT Warangal                             NIT Jamshedpur   \n",
       "17       NIT Surathkal (Karnataka)                            NIT Kurukshetra   \n",
       "18             Jadavpur University                                  NIT Patna   \n",
       "19  BITS Pilani (Hyderabad Campus)                                 NIT Raipur   \n",
       "20        BITS Pilani (Goa Campus)                                 NIT Bhopal   \n",
       "21                  IIIT Allahabad                               NIT Rourkela   \n",
       "22                             NaN                                NIT Silchar   \n",
       "23                             NaN                                 NIT Sikkim   \n",
       "24                             NaN                              IIIT Jabalpur   \n",
       "25                             NaN  Jalpaiguri Government Engineering College   \n",
       "26                             NaN                         IIEST/BESU Shibpur   \n",
       "27                             NaN                R.V. College of Engineering   \n",
       "\n",
       "                                            Tier 3  \n",
       "0       Ramaiah Institute of Technology, Bengaluru  \n",
       "1                           TIET/Thapar University  \n",
       "2                              Manipal Main Campus  \n",
       "3                                      VIT Vellore  \n",
       "4                                  SRM Main Campus  \n",
       "5                                KIIT, Bhubaneswar  \n",
       "6                                 Amity University  \n",
       "7                           BMS College, Bangalore  \n",
       "8                        PES University, Bangalore  \n",
       "9                                      USIT, Delhi  \n",
       "10                                     MAIT, Delhi  \n",
       "11                                     MSIT, Delhi  \n",
       "12      Dayanand College of Engineering, Bangalore  \n",
       "13       Heritage Institute of Technology, Kolkata  \n",
       "14                                    IEM, Kolkata  \n",
       "15                           Techno India, Kolkata  \n",
       "16                                   Jaypee, Noida  \n",
       "17                   Amrita University, Coimbatore  \n",
       "18  Cummins College of Engineering for Women, Pune  \n",
       "19                                             NaN  \n",
       "20                                             NaN  \n",
       "21                                             NaN  \n",
       "22                                             NaN  \n",
       "23                                             NaN  \n",
       "24                                             NaN  \n",
       "25                                             NaN  \n",
       "26                                             NaN  \n",
       "27                                             NaN  "
      ]
     },
     "execution_count": 6,
     "metadata": {},
     "output_type": "execute_result"
    }
   ],
   "source": [
    "colleges_df"
   ]
  },
  {
   "cell_type": "markdown",
   "id": "f7f90202",
   "metadata": {},
   "source": [
    "Filling NaN values in 'Tier 1' and 'Tier 3' columns with \"Unknown\" in colleges_df using`fillna` method. This ensures that any missing values in these columns are replaced with a specified placeholder."
   ]
  },
  {
   "cell_type": "code",
   "execution_count": 7,
   "id": "0ef562ff",
   "metadata": {},
   "outputs": [],
   "source": [
    "colleges_df['Tier 1'].fillna(\"Unknown\", inplace=True)\n",
    "colleges_df['Tier 3'].fillna(\"Unknown\", inplace=True)"
   ]
  },
  {
   "cell_type": "markdown",
   "id": "5ec5c17e",
   "metadata": {},
   "source": [
    " Displaying the first 30 rows of the colleges_df DataFrame"
   ]
  },
  {
   "cell_type": "code",
   "execution_count": 8,
   "id": "8b265b99",
   "metadata": {},
   "outputs": [
    {
     "data": {
      "text/html": [
       "<div>\n",
       "<style scoped>\n",
       "    .dataframe tbody tr th:only-of-type {\n",
       "        vertical-align: middle;\n",
       "    }\n",
       "\n",
       "    .dataframe tbody tr th {\n",
       "        vertical-align: top;\n",
       "    }\n",
       "\n",
       "    .dataframe thead th {\n",
       "        text-align: right;\n",
       "    }\n",
       "</style>\n",
       "<table border=\"1\" class=\"dataframe\">\n",
       "  <thead>\n",
       "    <tr style=\"text-align: right;\">\n",
       "      <th></th>\n",
       "      <th>Tier 1</th>\n",
       "      <th>Tier 2</th>\n",
       "      <th>Tier 3</th>\n",
       "    </tr>\n",
       "  </thead>\n",
       "  <tbody>\n",
       "    <tr>\n",
       "      <th>0</th>\n",
       "      <td>IIT Bombay</td>\n",
       "      <td>IIIT Bangalore</td>\n",
       "      <td>Ramaiah Institute of Technology, Bengaluru</td>\n",
       "    </tr>\n",
       "    <tr>\n",
       "      <th>1</th>\n",
       "      <td>IIT Delhi</td>\n",
       "      <td>IIIT Delhi</td>\n",
       "      <td>TIET/Thapar University</td>\n",
       "    </tr>\n",
       "    <tr>\n",
       "      <th>2</th>\n",
       "      <td>IIT Kharagpur</td>\n",
       "      <td>IGDTUW</td>\n",
       "      <td>Manipal Main Campus</td>\n",
       "    </tr>\n",
       "    <tr>\n",
       "      <th>3</th>\n",
       "      <td>IIT Madras</td>\n",
       "      <td>NIT Calicut</td>\n",
       "      <td>VIT Vellore</td>\n",
       "    </tr>\n",
       "    <tr>\n",
       "      <th>4</th>\n",
       "      <td>IIT Kanpur</td>\n",
       "      <td>IIITM Gwalior</td>\n",
       "      <td>SRM Main Campus</td>\n",
       "    </tr>\n",
       "    <tr>\n",
       "      <th>5</th>\n",
       "      <td>IIT Roorkee</td>\n",
       "      <td>IIIT Lucknow</td>\n",
       "      <td>KIIT, Bhubaneswar</td>\n",
       "    </tr>\n",
       "    <tr>\n",
       "      <th>6</th>\n",
       "      <td>IIT Guwahati</td>\n",
       "      <td>MNNIT Allahabad</td>\n",
       "      <td>Amity University</td>\n",
       "    </tr>\n",
       "    <tr>\n",
       "      <th>7</th>\n",
       "      <td>IIIT Hyderabad</td>\n",
       "      <td>Punjab Engineering College</td>\n",
       "      <td>BMS College, Bangalore</td>\n",
       "    </tr>\n",
       "    <tr>\n",
       "      <th>8</th>\n",
       "      <td>BITS Pilani (Pilani Campus)</td>\n",
       "      <td>DAIICT</td>\n",
       "      <td>PES University, Bangalore</td>\n",
       "    </tr>\n",
       "    <tr>\n",
       "      <th>9</th>\n",
       "      <td>IIT Indore</td>\n",
       "      <td>MNIT Jaipur</td>\n",
       "      <td>USIT, Delhi</td>\n",
       "    </tr>\n",
       "    <tr>\n",
       "      <th>10</th>\n",
       "      <td>IIT Ropar</td>\n",
       "      <td>NIT Durgapur</td>\n",
       "      <td>MAIT, Delhi</td>\n",
       "    </tr>\n",
       "    <tr>\n",
       "      <th>11</th>\n",
       "      <td>IIT BHU (Varanasi)</td>\n",
       "      <td>VNIT Nagpur</td>\n",
       "      <td>MSIT, Delhi</td>\n",
       "    </tr>\n",
       "    <tr>\n",
       "      <th>12</th>\n",
       "      <td>IIT ISM Dhanbad</td>\n",
       "      <td>LNMIIT</td>\n",
       "      <td>Dayanand College of Engineering, Bangalore</td>\n",
       "    </tr>\n",
       "    <tr>\n",
       "      <th>13</th>\n",
       "      <td>DTU</td>\n",
       "      <td>BIT Mesra</td>\n",
       "      <td>Heritage Institute of Technology, Kolkata</td>\n",
       "    </tr>\n",
       "    <tr>\n",
       "      <th>14</th>\n",
       "      <td>NSUT Delhi (NSIT)</td>\n",
       "      <td>SVNIT Surat</td>\n",
       "      <td>IEM, Kolkata</td>\n",
       "    </tr>\n",
       "    <tr>\n",
       "      <th>15</th>\n",
       "      <td>NIT Tiruchipally (Trichy)</td>\n",
       "      <td>NIT Jalandhar</td>\n",
       "      <td>Techno India, Kolkata</td>\n",
       "    </tr>\n",
       "    <tr>\n",
       "      <th>16</th>\n",
       "      <td>NIT Warangal</td>\n",
       "      <td>NIT Jamshedpur</td>\n",
       "      <td>Jaypee, Noida</td>\n",
       "    </tr>\n",
       "    <tr>\n",
       "      <th>17</th>\n",
       "      <td>NIT Surathkal (Karnataka)</td>\n",
       "      <td>NIT Kurukshetra</td>\n",
       "      <td>Amrita University, Coimbatore</td>\n",
       "    </tr>\n",
       "    <tr>\n",
       "      <th>18</th>\n",
       "      <td>Jadavpur University</td>\n",
       "      <td>NIT Patna</td>\n",
       "      <td>Cummins College of Engineering for Women, Pune</td>\n",
       "    </tr>\n",
       "    <tr>\n",
       "      <th>19</th>\n",
       "      <td>BITS Pilani (Hyderabad Campus)</td>\n",
       "      <td>NIT Raipur</td>\n",
       "      <td>Unknown</td>\n",
       "    </tr>\n",
       "    <tr>\n",
       "      <th>20</th>\n",
       "      <td>BITS Pilani (Goa Campus)</td>\n",
       "      <td>NIT Bhopal</td>\n",
       "      <td>Unknown</td>\n",
       "    </tr>\n",
       "    <tr>\n",
       "      <th>21</th>\n",
       "      <td>IIIT Allahabad</td>\n",
       "      <td>NIT Rourkela</td>\n",
       "      <td>Unknown</td>\n",
       "    </tr>\n",
       "    <tr>\n",
       "      <th>22</th>\n",
       "      <td>Unknown</td>\n",
       "      <td>NIT Silchar</td>\n",
       "      <td>Unknown</td>\n",
       "    </tr>\n",
       "    <tr>\n",
       "      <th>23</th>\n",
       "      <td>Unknown</td>\n",
       "      <td>NIT Sikkim</td>\n",
       "      <td>Unknown</td>\n",
       "    </tr>\n",
       "    <tr>\n",
       "      <th>24</th>\n",
       "      <td>Unknown</td>\n",
       "      <td>IIIT Jabalpur</td>\n",
       "      <td>Unknown</td>\n",
       "    </tr>\n",
       "    <tr>\n",
       "      <th>25</th>\n",
       "      <td>Unknown</td>\n",
       "      <td>Jalpaiguri Government Engineering College</td>\n",
       "      <td>Unknown</td>\n",
       "    </tr>\n",
       "    <tr>\n",
       "      <th>26</th>\n",
       "      <td>Unknown</td>\n",
       "      <td>IIEST/BESU Shibpur</td>\n",
       "      <td>Unknown</td>\n",
       "    </tr>\n",
       "    <tr>\n",
       "      <th>27</th>\n",
       "      <td>Unknown</td>\n",
       "      <td>R.V. College of Engineering</td>\n",
       "      <td>Unknown</td>\n",
       "    </tr>\n",
       "  </tbody>\n",
       "</table>\n",
       "</div>"
      ],
      "text/plain": [
       "                            Tier 1                                     Tier 2  \\\n",
       "0                       IIT Bombay                             IIIT Bangalore   \n",
       "1                        IIT Delhi                                 IIIT Delhi   \n",
       "2                    IIT Kharagpur                                     IGDTUW   \n",
       "3                       IIT Madras                                NIT Calicut   \n",
       "4                       IIT Kanpur                              IIITM Gwalior   \n",
       "5                      IIT Roorkee                               IIIT Lucknow   \n",
       "6                     IIT Guwahati                            MNNIT Allahabad   \n",
       "7                   IIIT Hyderabad                 Punjab Engineering College   \n",
       "8      BITS Pilani (Pilani Campus)                                     DAIICT   \n",
       "9                       IIT Indore                                MNIT Jaipur   \n",
       "10                       IIT Ropar                               NIT Durgapur   \n",
       "11              IIT BHU (Varanasi)                                VNIT Nagpur   \n",
       "12                 IIT ISM Dhanbad                                     LNMIIT   \n",
       "13                             DTU                                  BIT Mesra   \n",
       "14               NSUT Delhi (NSIT)                                SVNIT Surat   \n",
       "15       NIT Tiruchipally (Trichy)                              NIT Jalandhar   \n",
       "16                    NIT Warangal                             NIT Jamshedpur   \n",
       "17       NIT Surathkal (Karnataka)                            NIT Kurukshetra   \n",
       "18             Jadavpur University                                  NIT Patna   \n",
       "19  BITS Pilani (Hyderabad Campus)                                 NIT Raipur   \n",
       "20        BITS Pilani (Goa Campus)                                 NIT Bhopal   \n",
       "21                  IIIT Allahabad                               NIT Rourkela   \n",
       "22                         Unknown                                NIT Silchar   \n",
       "23                         Unknown                                 NIT Sikkim   \n",
       "24                         Unknown                              IIIT Jabalpur   \n",
       "25                         Unknown  Jalpaiguri Government Engineering College   \n",
       "26                         Unknown                         IIEST/BESU Shibpur   \n",
       "27                         Unknown                R.V. College of Engineering   \n",
       "\n",
       "                                            Tier 3  \n",
       "0       Ramaiah Institute of Technology, Bengaluru  \n",
       "1                           TIET/Thapar University  \n",
       "2                              Manipal Main Campus  \n",
       "3                                      VIT Vellore  \n",
       "4                                  SRM Main Campus  \n",
       "5                                KIIT, Bhubaneswar  \n",
       "6                                 Amity University  \n",
       "7                           BMS College, Bangalore  \n",
       "8                        PES University, Bangalore  \n",
       "9                                      USIT, Delhi  \n",
       "10                                     MAIT, Delhi  \n",
       "11                                     MSIT, Delhi  \n",
       "12      Dayanand College of Engineering, Bangalore  \n",
       "13       Heritage Institute of Technology, Kolkata  \n",
       "14                                    IEM, Kolkata  \n",
       "15                           Techno India, Kolkata  \n",
       "16                                   Jaypee, Noida  \n",
       "17                   Amrita University, Coimbatore  \n",
       "18  Cummins College of Engineering for Women, Pune  \n",
       "19                                         Unknown  \n",
       "20                                         Unknown  \n",
       "21                                         Unknown  \n",
       "22                                         Unknown  \n",
       "23                                         Unknown  \n",
       "24                                         Unknown  \n",
       "25                                         Unknown  \n",
       "26                                         Unknown  \n",
       "27                                         Unknown  "
      ]
     },
     "execution_count": 8,
     "metadata": {},
     "output_type": "execute_result"
    }
   ],
   "source": [
    "colleges_df.head(30)"
   ]
  },
  {
   "cell_type": "markdown",
   "id": "5370ab3d",
   "metadata": {},
   "source": [
    "Here we can see that the Nan Values have been replaced with Unknown word"
   ]
  },
  {
   "cell_type": "code",
   "execution_count": 9,
   "id": "e8fa81ab",
   "metadata": {},
   "outputs": [
    {
     "data": {
      "text/html": [
       "<div>\n",
       "<style scoped>\n",
       "    .dataframe tbody tr th:only-of-type {\n",
       "        vertical-align: middle;\n",
       "    }\n",
       "\n",
       "    .dataframe tbody tr th {\n",
       "        vertical-align: top;\n",
       "    }\n",
       "\n",
       "    .dataframe thead th {\n",
       "        text-align: right;\n",
       "    }\n",
       "</style>\n",
       "<table border=\"1\" class=\"dataframe\">\n",
       "  <thead>\n",
       "    <tr style=\"text-align: right;\">\n",
       "      <th></th>\n",
       "      <th>Metrio City</th>\n",
       "      <th>non-metro cities</th>\n",
       "    </tr>\n",
       "  </thead>\n",
       "  <tbody>\n",
       "    <tr>\n",
       "      <th>0</th>\n",
       "      <td>Mumbai</td>\n",
       "      <td>Dehradun</td>\n",
       "    </tr>\n",
       "    <tr>\n",
       "      <th>1</th>\n",
       "      <td>Delhi</td>\n",
       "      <td>Durgapur</td>\n",
       "    </tr>\n",
       "    <tr>\n",
       "      <th>2</th>\n",
       "      <td>Kolkata</td>\n",
       "      <td>Asansol</td>\n",
       "    </tr>\n",
       "    <tr>\n",
       "      <th>3</th>\n",
       "      <td>Chennai</td>\n",
       "      <td>Rourkela</td>\n",
       "    </tr>\n",
       "    <tr>\n",
       "      <th>4</th>\n",
       "      <td>Bangalore</td>\n",
       "      <td>Kozhikode</td>\n",
       "    </tr>\n",
       "    <tr>\n",
       "      <th>5</th>\n",
       "      <td>Hyderabad</td>\n",
       "      <td>Rajpur Sonarpur</td>\n",
       "    </tr>\n",
       "    <tr>\n",
       "      <th>6</th>\n",
       "      <td>Ahmedabad</td>\n",
       "      <td>Kolhapur</td>\n",
       "    </tr>\n",
       "    <tr>\n",
       "      <th>7</th>\n",
       "      <td>Pune</td>\n",
       "      <td>Ajmer</td>\n",
       "    </tr>\n",
       "    <tr>\n",
       "      <th>8</th>\n",
       "      <td>Surat</td>\n",
       "      <td>NaN</td>\n",
       "    </tr>\n",
       "  </tbody>\n",
       "</table>\n",
       "</div>"
      ],
      "text/plain": [
       "  Metrio City non-metro cities\n",
       "0      Mumbai         Dehradun\n",
       "1       Delhi         Durgapur\n",
       "2     Kolkata          Asansol\n",
       "3     Chennai         Rourkela\n",
       "4   Bangalore        Kozhikode\n",
       "5   Hyderabad  Rajpur Sonarpur\n",
       "6   Ahmedabad         Kolhapur\n",
       "7        Pune            Ajmer\n",
       "8       Surat              NaN"
      ]
     },
     "execution_count": 9,
     "metadata": {},
     "output_type": "execute_result"
    }
   ],
   "source": [
    "city_df"
   ]
  },
  {
   "cell_type": "markdown",
   "id": "f892d1a8",
   "metadata": {},
   "source": [
    "Filling missing values in the 'non-metro cities' column of city_df with 'Unknown'"
   ]
  },
  {
   "cell_type": "code",
   "execution_count": 10,
   "id": "74586fc9",
   "metadata": {},
   "outputs": [
    {
     "data": {
      "text/html": [
       "<div>\n",
       "<style scoped>\n",
       "    .dataframe tbody tr th:only-of-type {\n",
       "        vertical-align: middle;\n",
       "    }\n",
       "\n",
       "    .dataframe tbody tr th {\n",
       "        vertical-align: top;\n",
       "    }\n",
       "\n",
       "    .dataframe thead th {\n",
       "        text-align: right;\n",
       "    }\n",
       "</style>\n",
       "<table border=\"1\" class=\"dataframe\">\n",
       "  <thead>\n",
       "    <tr style=\"text-align: right;\">\n",
       "      <th></th>\n",
       "      <th>Metrio City</th>\n",
       "      <th>non-metro cities</th>\n",
       "    </tr>\n",
       "  </thead>\n",
       "  <tbody>\n",
       "    <tr>\n",
       "      <th>0</th>\n",
       "      <td>Mumbai</td>\n",
       "      <td>Dehradun</td>\n",
       "    </tr>\n",
       "    <tr>\n",
       "      <th>1</th>\n",
       "      <td>Delhi</td>\n",
       "      <td>Durgapur</td>\n",
       "    </tr>\n",
       "    <tr>\n",
       "      <th>2</th>\n",
       "      <td>Kolkata</td>\n",
       "      <td>Asansol</td>\n",
       "    </tr>\n",
       "    <tr>\n",
       "      <th>3</th>\n",
       "      <td>Chennai</td>\n",
       "      <td>Rourkela</td>\n",
       "    </tr>\n",
       "    <tr>\n",
       "      <th>4</th>\n",
       "      <td>Bangalore</td>\n",
       "      <td>Kozhikode</td>\n",
       "    </tr>\n",
       "    <tr>\n",
       "      <th>5</th>\n",
       "      <td>Hyderabad</td>\n",
       "      <td>Rajpur Sonarpur</td>\n",
       "    </tr>\n",
       "    <tr>\n",
       "      <th>6</th>\n",
       "      <td>Ahmedabad</td>\n",
       "      <td>Kolhapur</td>\n",
       "    </tr>\n",
       "    <tr>\n",
       "      <th>7</th>\n",
       "      <td>Pune</td>\n",
       "      <td>Ajmer</td>\n",
       "    </tr>\n",
       "    <tr>\n",
       "      <th>8</th>\n",
       "      <td>Surat</td>\n",
       "      <td>Unknown</td>\n",
       "    </tr>\n",
       "  </tbody>\n",
       "</table>\n",
       "</div>"
      ],
      "text/plain": [
       "  Metrio City non-metro cities\n",
       "0      Mumbai         Dehradun\n",
       "1       Delhi         Durgapur\n",
       "2     Kolkata          Asansol\n",
       "3     Chennai         Rourkela\n",
       "4   Bangalore        Kozhikode\n",
       "5   Hyderabad  Rajpur Sonarpur\n",
       "6   Ahmedabad         Kolhapur\n",
       "7        Pune            Ajmer\n",
       "8       Surat          Unknown"
      ]
     },
     "execution_count": 10,
     "metadata": {},
     "output_type": "execute_result"
    }
   ],
   "source": [
    "city_df['non-metro cities'].fillna(\"Unknown\", inplace=True)\n",
    "city_df"
   ]
  },
  {
   "cell_type": "markdown",
   "id": "8a699e72",
   "metadata": {},
   "source": [
    "Displaying a concise summary of the information about the DataFrame df. It provides details such as the number of non-null entries, data types, and memory usage for each column. This helps in understanding the structure and completeness of the dataset."
   ]
  },
  {
   "cell_type": "code",
   "execution_count": 11,
   "id": "3dc6ccbe",
   "metadata": {},
   "outputs": [
    {
     "name": "stdout",
     "output_type": "stream",
     "text": [
      "<class 'pandas.core.frame.DataFrame'>\n",
      "RangeIndex: 1589 entries, 0 to 1588\n",
      "Data columns (total 8 columns):\n",
      " #   Column               Non-Null Count  Dtype  \n",
      "---  ------               --------------  -----  \n",
      " 0   College              1589 non-null   object \n",
      " 1   City                 1589 non-null   object \n",
      " 2   Role                 1589 non-null   object \n",
      " 3   Previous CTC         1589 non-null   float64\n",
      " 4   Previous job change  1589 non-null   int64  \n",
      " 5   Graduation Marks     1589 non-null   int64  \n",
      " 6   EXP (Month)          1589 non-null   int64  \n",
      " 7   CTC                  1589 non-null   float64\n",
      "dtypes: float64(2), int64(3), object(3)\n",
      "memory usage: 99.4+ KB\n"
     ]
    }
   ],
   "source": [
    "df.info()"
   ]
  },
  {
   "cell_type": "markdown",
   "id": "9a527d73",
   "metadata": {},
   "source": [
    "The count for all the columns is same.Still we'll count the number of missing values (NaN) in each column of the DataFrame df"
   ]
  },
  {
   "cell_type": "code",
   "execution_count": 12,
   "id": "2f14cd38",
   "metadata": {},
   "outputs": [
    {
     "data": {
      "text/plain": [
       "College                0\n",
       "City                   0\n",
       "Role                   0\n",
       "Previous CTC           0\n",
       "Previous job change    0\n",
       "Graduation Marks       0\n",
       "EXP (Month)            0\n",
       "CTC                    0\n",
       "dtype: int64"
      ]
     },
     "execution_count": 12,
     "metadata": {},
     "output_type": "execute_result"
    }
   ],
   "source": [
    "df.isnull().sum()"
   ]
  },
  {
   "cell_type": "markdown",
   "id": "98526e96",
   "metadata": {},
   "source": [
    "This confirms that there are no Null values present in the data."
   ]
  },
  {
   "cell_type": "markdown",
   "id": "49bdaeaf",
   "metadata": {},
   "source": [
    "Now, we'll removes duplicate rows from the DataFrame df, keeping only the first occurrence of each duplicated row. This operation helps in ensuring data integrity and removing redundant information from the dataset."
   ]
  },
  {
   "cell_type": "code",
   "execution_count": 13,
   "id": "3217081a",
   "metadata": {},
   "outputs": [],
   "source": [
    "df = df.drop_duplicates()"
   ]
  },
  {
   "cell_type": "markdown",
   "id": "52fa4059",
   "metadata": {},
   "source": [
    "Let's find the number of rows, and the number of columns in the DataFrame."
   ]
  },
  {
   "cell_type": "code",
   "execution_count": 14,
   "id": "6d8bf91c",
   "metadata": {},
   "outputs": [
    {
     "data": {
      "text/plain": [
       "(1589, 8)"
      ]
     },
     "execution_count": 14,
     "metadata": {},
     "output_type": "execute_result"
    }
   ],
   "source": [
    "df.shape"
   ]
  },
  {
   "cell_type": "markdown",
   "id": "b95060cd",
   "metadata": {},
   "source": [
    "It shows that the DataFrame has '1589' rows and '8' columns."
   ]
  },
  {
   "cell_type": "markdown",
   "id": "af3d1884",
   "metadata": {},
   "source": [
    "## Feature Engineering"
   ]
  },
  {
   "cell_type": "code",
   "execution_count": 15,
   "id": "b9c9dc1f",
   "metadata": {},
   "outputs": [],
   "source": [
    "#Mapping the 'College' column based on tiers\n",
    "\n",
    "def map_college(item):\n",
    "    if item in Tier1:\n",
    "        return 1\n",
    "    elif item in Tier2:\n",
    "        return 2\n",
    "    elif item in Tier3:\n",
    "        return 3\n",
    "    else:\n",
    "        return item"
   ]
  },
  {
   "cell_type": "markdown",
   "id": "a5c33387",
   "metadata": {},
   "source": [
    "This function map_college takes an item as input and maps it to a numerical value based on its membership in the Tier1, Tier2, and Tier3 lists. If the item is in Tier1, it returns 1; if it's in Tier2, it returns 2; if it's in Tier3, it returns 3. If the item is not found in any of these lists, it returns the item itself. This function is used to convert the 'College' column in the DataFrame df to numerical values."
   ]
  },
  {
   "cell_type": "code",
   "execution_count": 16,
   "id": "67f06f83",
   "metadata": {},
   "outputs": [],
   "source": [
    "Tier1 = colleges_df[\"Tier 1\"].tolist()\n",
    "Tier2 = colleges_df[\"Tier 2\"].tolist()\n",
    "Tier3 = colleges_df[\"Tier 3\"].tolist()"
   ]
  },
  {
   "cell_type": "markdown",
   "id": "773cb624",
   "metadata": {},
   "source": [
    "These lists will be used to check the membership of items in the 'College' column of the main DataFrame (df) in the subsequent code."
   ]
  },
  {
   "cell_type": "code",
   "execution_count": 17,
   "id": "b143b1d2",
   "metadata": {},
   "outputs": [],
   "source": [
    "# Applying the mapping function to the 'College' column\n",
    "df['College'] = df['College'].apply(map_college)"
   ]
  },
  {
   "cell_type": "markdown",
   "id": "d3a90888",
   "metadata": {},
   "source": [
    "The function maps each college name to its corresponding tier (1, 2, or 3) based on the predefined lists (Tier1, Tier2, Tier3). The 'College' column is then updated with these numerical values."
   ]
  },
  {
   "cell_type": "code",
   "execution_count": 18,
   "id": "8e6f29e4",
   "metadata": {},
   "outputs": [],
   "source": [
    "#Mapping the 'City' column based on metro and non-metro\n",
    "\n",
    "def map_city(item):\n",
    "    if item in metro_cities:\n",
    "        return 1\n",
    "    elif item in non_metro_cities:\n",
    "        return 0\n",
    "    else:\n",
    "        return item"
   ]
  },
  {
   "cell_type": "markdown",
   "id": "b0f574e3",
   "metadata": {},
   "source": [
    "This function, map_city, is designed to be applied to the 'City' column of the DataFrame. It checks whether each city in the column belongs to either metro_cities or non_metro_cities. If it's a metro city, it returns 1; if it's a non-metro city, it returns 0. If the city is not found in either list, it keeps the original value"
   ]
  },
  {
   "cell_type": "code",
   "execution_count": 19,
   "id": "7cc18016",
   "metadata": {},
   "outputs": [],
   "source": [
    "# Creating lists for metro and non-metro cities\n",
    "\n",
    "metro_cities = city_df[\"Metrio City\"].tolist()\n",
    "non_metro_cities = city_df[\"non-metro cities\"].tolist()\n",
    "df['City'] = df['City'].apply(map_city)"
   ]
  },
  {
   "cell_type": "markdown",
   "id": "826bafa4",
   "metadata": {},
   "source": [
    "Here, two lists, metro_cities and non_metro_cities, are created based on the columns 'Metrio City' and 'non-metro cities' from the city_df DataFrame. The map_city function is then applied to the 'City' column in the main DataFrame (df). The values in the 'City' column are replaced with 1 if they belong to metro_cities, 0 if they belong to non_metro_cities, and retain their original values if they don't match either list."
   ]
  },
  {
   "cell_type": "code",
   "execution_count": 20,
   "id": "51240e28",
   "metadata": {},
   "outputs": [
    {
     "data": {
      "text/html": [
       "<div>\n",
       "<style scoped>\n",
       "    .dataframe tbody tr th:only-of-type {\n",
       "        vertical-align: middle;\n",
       "    }\n",
       "\n",
       "    .dataframe tbody tr th {\n",
       "        vertical-align: top;\n",
       "    }\n",
       "\n",
       "    .dataframe thead th {\n",
       "        text-align: right;\n",
       "    }\n",
       "</style>\n",
       "<table border=\"1\" class=\"dataframe\">\n",
       "  <thead>\n",
       "    <tr style=\"text-align: right;\">\n",
       "      <th></th>\n",
       "      <th>College</th>\n",
       "      <th>City</th>\n",
       "      <th>Role</th>\n",
       "      <th>Previous CTC</th>\n",
       "      <th>Previous job change</th>\n",
       "      <th>Graduation Marks</th>\n",
       "      <th>EXP (Month)</th>\n",
       "      <th>CTC</th>\n",
       "    </tr>\n",
       "  </thead>\n",
       "  <tbody>\n",
       "    <tr>\n",
       "      <th>0</th>\n",
       "      <td>2</td>\n",
       "      <td>0</td>\n",
       "      <td>Manager</td>\n",
       "      <td>55523.0</td>\n",
       "      <td>3</td>\n",
       "      <td>66</td>\n",
       "      <td>19</td>\n",
       "      <td>71406.58</td>\n",
       "    </tr>\n",
       "    <tr>\n",
       "      <th>1</th>\n",
       "      <td>2</td>\n",
       "      <td>0</td>\n",
       "      <td>Executive</td>\n",
       "      <td>57081.0</td>\n",
       "      <td>1</td>\n",
       "      <td>84</td>\n",
       "      <td>18</td>\n",
       "      <td>68005.87</td>\n",
       "    </tr>\n",
       "    <tr>\n",
       "      <th>2</th>\n",
       "      <td>3</td>\n",
       "      <td>0</td>\n",
       "      <td>Executive</td>\n",
       "      <td>60347.0</td>\n",
       "      <td>2</td>\n",
       "      <td>52</td>\n",
       "      <td>28</td>\n",
       "      <td>76764.02</td>\n",
       "    </tr>\n",
       "    <tr>\n",
       "      <th>3</th>\n",
       "      <td>3</td>\n",
       "      <td>0</td>\n",
       "      <td>Executive</td>\n",
       "      <td>49010.0</td>\n",
       "      <td>2</td>\n",
       "      <td>81</td>\n",
       "      <td>33</td>\n",
       "      <td>82092.39</td>\n",
       "    </tr>\n",
       "    <tr>\n",
       "      <th>4</th>\n",
       "      <td>1</td>\n",
       "      <td>0</td>\n",
       "      <td>Executive</td>\n",
       "      <td>57879.0</td>\n",
       "      <td>4</td>\n",
       "      <td>74</td>\n",
       "      <td>32</td>\n",
       "      <td>73878.10</td>\n",
       "    </tr>\n",
       "    <tr>\n",
       "      <th>...</th>\n",
       "      <td>...</td>\n",
       "      <td>...</td>\n",
       "      <td>...</td>\n",
       "      <td>...</td>\n",
       "      <td>...</td>\n",
       "      <td>...</td>\n",
       "      <td>...</td>\n",
       "      <td>...</td>\n",
       "    </tr>\n",
       "    <tr>\n",
       "      <th>1584</th>\n",
       "      <td>1</td>\n",
       "      <td>1</td>\n",
       "      <td>Executive</td>\n",
       "      <td>61285.0</td>\n",
       "      <td>3</td>\n",
       "      <td>44</td>\n",
       "      <td>60</td>\n",
       "      <td>77283.59</td>\n",
       "    </tr>\n",
       "    <tr>\n",
       "      <th>1585</th>\n",
       "      <td>1</td>\n",
       "      <td>0</td>\n",
       "      <td>Executive</td>\n",
       "      <td>63140.0</td>\n",
       "      <td>1</td>\n",
       "      <td>44</td>\n",
       "      <td>24</td>\n",
       "      <td>68416.86</td>\n",
       "    </tr>\n",
       "    <tr>\n",
       "      <th>1586</th>\n",
       "      <td>1</td>\n",
       "      <td>1</td>\n",
       "      <td>Executive</td>\n",
       "      <td>44907.0</td>\n",
       "      <td>1</td>\n",
       "      <td>60</td>\n",
       "      <td>19</td>\n",
       "      <td>70186.19</td>\n",
       "    </tr>\n",
       "    <tr>\n",
       "      <th>1587</th>\n",
       "      <td>1</td>\n",
       "      <td>0</td>\n",
       "      <td>Executive</td>\n",
       "      <td>52054.0</td>\n",
       "      <td>2</td>\n",
       "      <td>67</td>\n",
       "      <td>29</td>\n",
       "      <td>73394.09</td>\n",
       "    </tr>\n",
       "    <tr>\n",
       "      <th>1588</th>\n",
       "      <td>2</td>\n",
       "      <td>1</td>\n",
       "      <td>Manager</td>\n",
       "      <td>44353.0</td>\n",
       "      <td>3</td>\n",
       "      <td>75</td>\n",
       "      <td>18</td>\n",
       "      <td>70056.31</td>\n",
       "    </tr>\n",
       "  </tbody>\n",
       "</table>\n",
       "<p>1589 rows × 8 columns</p>\n",
       "</div>"
      ],
      "text/plain": [
       "      College  City       Role  Previous CTC  Previous job change  \\\n",
       "0           2     0    Manager       55523.0                    3   \n",
       "1           2     0  Executive       57081.0                    1   \n",
       "2           3     0  Executive       60347.0                    2   \n",
       "3           3     0  Executive       49010.0                    2   \n",
       "4           1     0  Executive       57879.0                    4   \n",
       "...       ...   ...        ...           ...                  ...   \n",
       "1584        1     1  Executive       61285.0                    3   \n",
       "1585        1     0  Executive       63140.0                    1   \n",
       "1586        1     1  Executive       44907.0                    1   \n",
       "1587        1     0  Executive       52054.0                    2   \n",
       "1588        2     1    Manager       44353.0                    3   \n",
       "\n",
       "      Graduation Marks  EXP (Month)       CTC  \n",
       "0                   66           19  71406.58  \n",
       "1                   84           18  68005.87  \n",
       "2                   52           28  76764.02  \n",
       "3                   81           33  82092.39  \n",
       "4                   74           32  73878.10  \n",
       "...                ...          ...       ...  \n",
       "1584                44           60  77283.59  \n",
       "1585                44           24  68416.86  \n",
       "1586                60           19  70186.19  \n",
       "1587                67           29  73394.09  \n",
       "1588                75           18  70056.31  \n",
       "\n",
       "[1589 rows x 8 columns]"
      ]
     },
     "execution_count": 20,
     "metadata": {},
     "output_type": "execute_result"
    }
   ],
   "source": [
    "# Displaying the updated dataframe\n",
    "\n",
    "df"
   ]
  },
  {
   "cell_type": "markdown",
   "id": "ab53762e",
   "metadata": {},
   "source": [
    "Here, we can see the previous categorical columns of 'College' and 'City' are replaced with numerical values."
   ]
  },
  {
   "cell_type": "markdown",
   "id": "1b7f95fc",
   "metadata": {},
   "source": [
    "Even though we mapped 'College' and 'City' to numeric values earlier, they may still retain some ordinal relationship. One-hot encoding ensures that each category becomes a binary column, and it helps the machine learning models better understand and interpret the categorical data without imposing any ordinal relationship. It avoids the assumption that a larger numeric value represents a higher category."
   ]
  },
  {
   "cell_type": "code",
   "execution_count": 21,
   "id": "9e86426d",
   "metadata": {},
   "outputs": [
    {
     "data": {
      "text/html": [
       "<div>\n",
       "<style scoped>\n",
       "    .dataframe tbody tr th:only-of-type {\n",
       "        vertical-align: middle;\n",
       "    }\n",
       "\n",
       "    .dataframe tbody tr th {\n",
       "        vertical-align: top;\n",
       "    }\n",
       "\n",
       "    .dataframe thead th {\n",
       "        text-align: right;\n",
       "    }\n",
       "</style>\n",
       "<table border=\"1\" class=\"dataframe\">\n",
       "  <thead>\n",
       "    <tr style=\"text-align: right;\">\n",
       "      <th></th>\n",
       "      <th>Role</th>\n",
       "      <th>Previous CTC</th>\n",
       "      <th>Previous job change</th>\n",
       "      <th>Graduation Marks</th>\n",
       "      <th>EXP (Month)</th>\n",
       "      <th>CTC</th>\n",
       "      <th>College_1</th>\n",
       "      <th>College_2</th>\n",
       "      <th>College_3</th>\n",
       "      <th>City_0</th>\n",
       "      <th>City_1</th>\n",
       "    </tr>\n",
       "  </thead>\n",
       "  <tbody>\n",
       "    <tr>\n",
       "      <th>0</th>\n",
       "      <td>Manager</td>\n",
       "      <td>55523.0</td>\n",
       "      <td>3</td>\n",
       "      <td>66</td>\n",
       "      <td>19</td>\n",
       "      <td>71406.58</td>\n",
       "      <td>0</td>\n",
       "      <td>1</td>\n",
       "      <td>0</td>\n",
       "      <td>1</td>\n",
       "      <td>0</td>\n",
       "    </tr>\n",
       "    <tr>\n",
       "      <th>1</th>\n",
       "      <td>Executive</td>\n",
       "      <td>57081.0</td>\n",
       "      <td>1</td>\n",
       "      <td>84</td>\n",
       "      <td>18</td>\n",
       "      <td>68005.87</td>\n",
       "      <td>0</td>\n",
       "      <td>1</td>\n",
       "      <td>0</td>\n",
       "      <td>1</td>\n",
       "      <td>0</td>\n",
       "    </tr>\n",
       "    <tr>\n",
       "      <th>2</th>\n",
       "      <td>Executive</td>\n",
       "      <td>60347.0</td>\n",
       "      <td>2</td>\n",
       "      <td>52</td>\n",
       "      <td>28</td>\n",
       "      <td>76764.02</td>\n",
       "      <td>0</td>\n",
       "      <td>0</td>\n",
       "      <td>1</td>\n",
       "      <td>1</td>\n",
       "      <td>0</td>\n",
       "    </tr>\n",
       "    <tr>\n",
       "      <th>3</th>\n",
       "      <td>Executive</td>\n",
       "      <td>49010.0</td>\n",
       "      <td>2</td>\n",
       "      <td>81</td>\n",
       "      <td>33</td>\n",
       "      <td>82092.39</td>\n",
       "      <td>0</td>\n",
       "      <td>0</td>\n",
       "      <td>1</td>\n",
       "      <td>1</td>\n",
       "      <td>0</td>\n",
       "    </tr>\n",
       "    <tr>\n",
       "      <th>4</th>\n",
       "      <td>Executive</td>\n",
       "      <td>57879.0</td>\n",
       "      <td>4</td>\n",
       "      <td>74</td>\n",
       "      <td>32</td>\n",
       "      <td>73878.10</td>\n",
       "      <td>1</td>\n",
       "      <td>0</td>\n",
       "      <td>0</td>\n",
       "      <td>1</td>\n",
       "      <td>0</td>\n",
       "    </tr>\n",
       "    <tr>\n",
       "      <th>...</th>\n",
       "      <td>...</td>\n",
       "      <td>...</td>\n",
       "      <td>...</td>\n",
       "      <td>...</td>\n",
       "      <td>...</td>\n",
       "      <td>...</td>\n",
       "      <td>...</td>\n",
       "      <td>...</td>\n",
       "      <td>...</td>\n",
       "      <td>...</td>\n",
       "      <td>...</td>\n",
       "    </tr>\n",
       "    <tr>\n",
       "      <th>1584</th>\n",
       "      <td>Executive</td>\n",
       "      <td>61285.0</td>\n",
       "      <td>3</td>\n",
       "      <td>44</td>\n",
       "      <td>60</td>\n",
       "      <td>77283.59</td>\n",
       "      <td>1</td>\n",
       "      <td>0</td>\n",
       "      <td>0</td>\n",
       "      <td>0</td>\n",
       "      <td>1</td>\n",
       "    </tr>\n",
       "    <tr>\n",
       "      <th>1585</th>\n",
       "      <td>Executive</td>\n",
       "      <td>63140.0</td>\n",
       "      <td>1</td>\n",
       "      <td>44</td>\n",
       "      <td>24</td>\n",
       "      <td>68416.86</td>\n",
       "      <td>1</td>\n",
       "      <td>0</td>\n",
       "      <td>0</td>\n",
       "      <td>1</td>\n",
       "      <td>0</td>\n",
       "    </tr>\n",
       "    <tr>\n",
       "      <th>1586</th>\n",
       "      <td>Executive</td>\n",
       "      <td>44907.0</td>\n",
       "      <td>1</td>\n",
       "      <td>60</td>\n",
       "      <td>19</td>\n",
       "      <td>70186.19</td>\n",
       "      <td>1</td>\n",
       "      <td>0</td>\n",
       "      <td>0</td>\n",
       "      <td>0</td>\n",
       "      <td>1</td>\n",
       "    </tr>\n",
       "    <tr>\n",
       "      <th>1587</th>\n",
       "      <td>Executive</td>\n",
       "      <td>52054.0</td>\n",
       "      <td>2</td>\n",
       "      <td>67</td>\n",
       "      <td>29</td>\n",
       "      <td>73394.09</td>\n",
       "      <td>1</td>\n",
       "      <td>0</td>\n",
       "      <td>0</td>\n",
       "      <td>1</td>\n",
       "      <td>0</td>\n",
       "    </tr>\n",
       "    <tr>\n",
       "      <th>1588</th>\n",
       "      <td>Manager</td>\n",
       "      <td>44353.0</td>\n",
       "      <td>3</td>\n",
       "      <td>75</td>\n",
       "      <td>18</td>\n",
       "      <td>70056.31</td>\n",
       "      <td>0</td>\n",
       "      <td>1</td>\n",
       "      <td>0</td>\n",
       "      <td>0</td>\n",
       "      <td>1</td>\n",
       "    </tr>\n",
       "  </tbody>\n",
       "</table>\n",
       "<p>1589 rows × 11 columns</p>\n",
       "</div>"
      ],
      "text/plain": [
       "           Role  Previous CTC  Previous job change  Graduation Marks  \\\n",
       "0       Manager       55523.0                    3                66   \n",
       "1     Executive       57081.0                    1                84   \n",
       "2     Executive       60347.0                    2                52   \n",
       "3     Executive       49010.0                    2                81   \n",
       "4     Executive       57879.0                    4                74   \n",
       "...         ...           ...                  ...               ...   \n",
       "1584  Executive       61285.0                    3                44   \n",
       "1585  Executive       63140.0                    1                44   \n",
       "1586  Executive       44907.0                    1                60   \n",
       "1587  Executive       52054.0                    2                67   \n",
       "1588    Manager       44353.0                    3                75   \n",
       "\n",
       "      EXP (Month)       CTC  College_1  College_2  College_3  City_0  City_1  \n",
       "0              19  71406.58          0          1          0       1       0  \n",
       "1              18  68005.87          0          1          0       1       0  \n",
       "2              28  76764.02          0          0          1       1       0  \n",
       "3              33  82092.39          0          0          1       1       0  \n",
       "4              32  73878.10          1          0          0       1       0  \n",
       "...           ...       ...        ...        ...        ...     ...     ...  \n",
       "1584           60  77283.59          1          0          0       0       1  \n",
       "1585           24  68416.86          1          0          0       1       0  \n",
       "1586           19  70186.19          1          0          0       0       1  \n",
       "1587           29  73394.09          1          0          0       1       0  \n",
       "1588           18  70056.31          0          1          0       0       1  \n",
       "\n",
       "[1589 rows x 11 columns]"
      ]
     },
     "execution_count": 21,
     "metadata": {},
     "output_type": "execute_result"
    }
   ],
   "source": [
    "# Creating dummy variables for 'College', 'City' column\n",
    "\n",
    "df = pd.get_dummies(df, columns = ['College', 'City']) \n",
    "df\n"
   ]
  },
  {
   "cell_type": "markdown",
   "id": "33c28680",
   "metadata": {},
   "source": [
    "This code uses function of pandas to convert categorical variables in the 'College' and 'City' columns into numerical format. It creates binary columns for each category and assigns 1 if the category is present and 0 if not. The resulting DataFrame (df) has additional columns representing the one-hot encoded values for 'College' and 'City'."
   ]
  },
  {
   "cell_type": "code",
   "execution_count": 22,
   "id": "2f1c2dad",
   "metadata": {},
   "outputs": [],
   "source": [
    "# Creating dummy variables for 'Role' column\n",
    "\n",
    "df = pd.get_dummies(df,columns = [\"Role\"], drop_first = True)"
   ]
  },
  {
   "cell_type": "markdown",
   "id": "beb9de10",
   "metadata": {},
   "source": [
    "The pd.get_dummies function is used to convert categorical variable into dummyvariables. The columns=[\"Role\"] argument specifies the column to be one-hot encoded, and drop_first=True drops the first dummy variable to avoid multicollinearity issues."
   ]
  },
  {
   "cell_type": "markdown",
   "id": "9a600517",
   "metadata": {},
   "source": [
    "Creating a new column in the DataFrame called 'EXP(Year)' by dividing the 'EXP (Month)' column by 12"
   ]
  },
  {
   "cell_type": "code",
   "execution_count": 24,
   "id": "249c7cbd",
   "metadata": {},
   "outputs": [],
   "source": [
    "df['EXP(Year)'] = df['EXP (Month)'] / 12\n",
    "\n",
    "# Drop the original \"EXP (Month)\" column \n",
    "df = df.drop('EXP (Month)', axis=1)"
   ]
  },
  {
   "cell_type": "code",
   "execution_count": 25,
   "id": "c5f18e94",
   "metadata": {},
   "outputs": [
    {
     "data": {
      "text/html": [
       "<div>\n",
       "<style scoped>\n",
       "    .dataframe tbody tr th:only-of-type {\n",
       "        vertical-align: middle;\n",
       "    }\n",
       "\n",
       "    .dataframe tbody tr th {\n",
       "        vertical-align: top;\n",
       "    }\n",
       "\n",
       "    .dataframe thead th {\n",
       "        text-align: right;\n",
       "    }\n",
       "</style>\n",
       "<table border=\"1\" class=\"dataframe\">\n",
       "  <thead>\n",
       "    <tr style=\"text-align: right;\">\n",
       "      <th></th>\n",
       "      <th>Previous CTC</th>\n",
       "      <th>Previous job change</th>\n",
       "      <th>Graduation Marks</th>\n",
       "      <th>CTC</th>\n",
       "      <th>College_1</th>\n",
       "      <th>College_2</th>\n",
       "      <th>College_3</th>\n",
       "      <th>City_0</th>\n",
       "      <th>City_1</th>\n",
       "      <th>Role_Manager</th>\n",
       "      <th>EXP(Year)</th>\n",
       "    </tr>\n",
       "  </thead>\n",
       "  <tbody>\n",
       "    <tr>\n",
       "      <th>0</th>\n",
       "      <td>55523.0</td>\n",
       "      <td>3</td>\n",
       "      <td>66</td>\n",
       "      <td>71406.58</td>\n",
       "      <td>0</td>\n",
       "      <td>1</td>\n",
       "      <td>0</td>\n",
       "      <td>1</td>\n",
       "      <td>0</td>\n",
       "      <td>1</td>\n",
       "      <td>1.583333</td>\n",
       "    </tr>\n",
       "    <tr>\n",
       "      <th>1</th>\n",
       "      <td>57081.0</td>\n",
       "      <td>1</td>\n",
       "      <td>84</td>\n",
       "      <td>68005.87</td>\n",
       "      <td>0</td>\n",
       "      <td>1</td>\n",
       "      <td>0</td>\n",
       "      <td>1</td>\n",
       "      <td>0</td>\n",
       "      <td>0</td>\n",
       "      <td>1.500000</td>\n",
       "    </tr>\n",
       "    <tr>\n",
       "      <th>2</th>\n",
       "      <td>60347.0</td>\n",
       "      <td>2</td>\n",
       "      <td>52</td>\n",
       "      <td>76764.02</td>\n",
       "      <td>0</td>\n",
       "      <td>0</td>\n",
       "      <td>1</td>\n",
       "      <td>1</td>\n",
       "      <td>0</td>\n",
       "      <td>0</td>\n",
       "      <td>2.333333</td>\n",
       "    </tr>\n",
       "    <tr>\n",
       "      <th>3</th>\n",
       "      <td>49010.0</td>\n",
       "      <td>2</td>\n",
       "      <td>81</td>\n",
       "      <td>82092.39</td>\n",
       "      <td>0</td>\n",
       "      <td>0</td>\n",
       "      <td>1</td>\n",
       "      <td>1</td>\n",
       "      <td>0</td>\n",
       "      <td>0</td>\n",
       "      <td>2.750000</td>\n",
       "    </tr>\n",
       "    <tr>\n",
       "      <th>4</th>\n",
       "      <td>57879.0</td>\n",
       "      <td>4</td>\n",
       "      <td>74</td>\n",
       "      <td>73878.10</td>\n",
       "      <td>1</td>\n",
       "      <td>0</td>\n",
       "      <td>0</td>\n",
       "      <td>1</td>\n",
       "      <td>0</td>\n",
       "      <td>0</td>\n",
       "      <td>2.666667</td>\n",
       "    </tr>\n",
       "  </tbody>\n",
       "</table>\n",
       "</div>"
      ],
      "text/plain": [
       "   Previous CTC  Previous job change  Graduation Marks       CTC  College_1  \\\n",
       "0       55523.0                    3                66  71406.58          0   \n",
       "1       57081.0                    1                84  68005.87          0   \n",
       "2       60347.0                    2                52  76764.02          0   \n",
       "3       49010.0                    2                81  82092.39          0   \n",
       "4       57879.0                    4                74  73878.10          1   \n",
       "\n",
       "   College_2  College_3  City_0  City_1  Role_Manager  EXP(Year)  \n",
       "0          1          0       1       0             1   1.583333  \n",
       "1          1          0       1       0             0   1.500000  \n",
       "2          0          1       1       0             0   2.333333  \n",
       "3          0          1       1       0             0   2.750000  \n",
       "4          0          0       1       0             0   2.666667  "
      ]
     },
     "execution_count": 25,
     "metadata": {},
     "output_type": "execute_result"
    }
   ],
   "source": [
    "#Displaying tht Updated DataFrame\n",
    "df.head()"
   ]
  },
  {
   "cell_type": "markdown",
   "id": "5d69d68b",
   "metadata": {},
   "source": [
    "I'll be Renaming columns for better understanding"
   ]
  },
  {
   "cell_type": "code",
   "execution_count": 136,
   "id": "83c7150c",
   "metadata": {},
   "outputs": [],
   "source": [
    "new_column_names = {\n",
    "    'College_1': 'Tier1',\n",
    "    'College_2': 'Tier2',\n",
    "    'College_3': 'Tier3',\n",
    "    'City_0': 'Non-Metro_city',\n",
    "    'City_1': 'Metro_city'\n",
    "    \n",
    "}\n",
    "\n",
    "df.rename(columns=new_column_names, inplace=True)"
   ]
  },
  {
   "cell_type": "markdown",
   "id": "eb00a886",
   "metadata": {},
   "source": [
    "Now we'll a generate descriptive statistics of the dataframe This provides a summary of the central tendency, dispersion, and shape of the distribution of a dataset."
   ]
  },
  {
   "cell_type": "code",
   "execution_count": 82,
   "id": "1f19987b",
   "metadata": {},
   "outputs": [
    {
     "data": {
      "text/html": [
       "<div>\n",
       "<style scoped>\n",
       "    .dataframe tbody tr th:only-of-type {\n",
       "        vertical-align: middle;\n",
       "    }\n",
       "\n",
       "    .dataframe tbody tr th {\n",
       "        vertical-align: top;\n",
       "    }\n",
       "\n",
       "    .dataframe thead th {\n",
       "        text-align: right;\n",
       "    }\n",
       "</style>\n",
       "<table border=\"1\" class=\"dataframe\">\n",
       "  <thead>\n",
       "    <tr style=\"text-align: right;\">\n",
       "      <th></th>\n",
       "      <th>Previous CTC</th>\n",
       "      <th>Previous job change</th>\n",
       "      <th>Graduation Marks</th>\n",
       "      <th>CTC</th>\n",
       "      <th>College_1</th>\n",
       "      <th>College_2</th>\n",
       "      <th>College_3</th>\n",
       "      <th>City_0</th>\n",
       "      <th>City_1</th>\n",
       "      <th>Role_Manager</th>\n",
       "      <th>EXP(Year)</th>\n",
       "    </tr>\n",
       "  </thead>\n",
       "  <tbody>\n",
       "    <tr>\n",
       "      <th>count</th>\n",
       "      <td>1589.000000</td>\n",
       "      <td>1589.000000</td>\n",
       "      <td>1589.000000</td>\n",
       "      <td>1589.000000</td>\n",
       "      <td>1589.000000</td>\n",
       "      <td>1589.000000</td>\n",
       "      <td>1589.000000</td>\n",
       "      <td>1589.000000</td>\n",
       "      <td>1589.000000</td>\n",
       "      <td>1589.000000</td>\n",
       "      <td>1589.000000</td>\n",
       "    </tr>\n",
       "    <tr>\n",
       "      <th>mean</th>\n",
       "      <td>55518.453744</td>\n",
       "      <td>2.528634</td>\n",
       "      <td>59.855255</td>\n",
       "      <td>75353.278798</td>\n",
       "      <td>0.363751</td>\n",
       "      <td>0.297042</td>\n",
       "      <td>0.339207</td>\n",
       "      <td>0.485840</td>\n",
       "      <td>0.514160</td>\n",
       "      <td>0.206419</td>\n",
       "      <td>3.253724</td>\n",
       "    </tr>\n",
       "    <tr>\n",
       "      <th>std</th>\n",
       "      <td>6655.218445</td>\n",
       "      <td>1.123918</td>\n",
       "      <td>14.935139</td>\n",
       "      <td>12587.288237</td>\n",
       "      <td>0.481230</td>\n",
       "      <td>0.457099</td>\n",
       "      <td>0.473589</td>\n",
       "      <td>0.499957</td>\n",
       "      <td>0.499957</td>\n",
       "      <td>0.404862</td>\n",
       "      <td>1.175740</td>\n",
       "    </tr>\n",
       "    <tr>\n",
       "      <th>min</th>\n",
       "      <td>36990.000000</td>\n",
       "      <td>1.000000</td>\n",
       "      <td>35.000000</td>\n",
       "      <td>53020.320000</td>\n",
       "      <td>0.000000</td>\n",
       "      <td>0.000000</td>\n",
       "      <td>0.000000</td>\n",
       "      <td>0.000000</td>\n",
       "      <td>0.000000</td>\n",
       "      <td>0.000000</td>\n",
       "      <td>1.500000</td>\n",
       "    </tr>\n",
       "    <tr>\n",
       "      <th>25%</th>\n",
       "      <td>50518.000000</td>\n",
       "      <td>2.000000</td>\n",
       "      <td>46.000000</td>\n",
       "      <td>66902.350000</td>\n",
       "      <td>0.000000</td>\n",
       "      <td>0.000000</td>\n",
       "      <td>0.000000</td>\n",
       "      <td>0.000000</td>\n",
       "      <td>0.000000</td>\n",
       "      <td>0.000000</td>\n",
       "      <td>2.166667</td>\n",
       "    </tr>\n",
       "    <tr>\n",
       "      <th>50%</th>\n",
       "      <td>55291.000000</td>\n",
       "      <td>3.000000</td>\n",
       "      <td>60.000000</td>\n",
       "      <td>73028.670000</td>\n",
       "      <td>0.000000</td>\n",
       "      <td>0.000000</td>\n",
       "      <td>0.000000</td>\n",
       "      <td>0.000000</td>\n",
       "      <td>1.000000</td>\n",
       "      <td>0.000000</td>\n",
       "      <td>3.250000</td>\n",
       "    </tr>\n",
       "    <tr>\n",
       "      <th>75%</th>\n",
       "      <td>60109.000000</td>\n",
       "      <td>4.000000</td>\n",
       "      <td>73.000000</td>\n",
       "      <td>80588.670000</td>\n",
       "      <td>1.000000</td>\n",
       "      <td>1.000000</td>\n",
       "      <td>1.000000</td>\n",
       "      <td>1.000000</td>\n",
       "      <td>1.000000</td>\n",
       "      <td>0.000000</td>\n",
       "      <td>4.250000</td>\n",
       "    </tr>\n",
       "    <tr>\n",
       "      <th>max</th>\n",
       "      <td>77911.000000</td>\n",
       "      <td>4.000000</td>\n",
       "      <td>85.000000</td>\n",
       "      <td>123416.990000</td>\n",
       "      <td>1.000000</td>\n",
       "      <td>1.000000</td>\n",
       "      <td>1.000000</td>\n",
       "      <td>1.000000</td>\n",
       "      <td>1.000000</td>\n",
       "      <td>1.000000</td>\n",
       "      <td>5.333333</td>\n",
       "    </tr>\n",
       "  </tbody>\n",
       "</table>\n",
       "</div>"
      ],
      "text/plain": [
       "       Previous CTC  Previous job change  Graduation Marks            CTC  \\\n",
       "count   1589.000000          1589.000000       1589.000000    1589.000000   \n",
       "mean   55518.453744             2.528634         59.855255   75353.278798   \n",
       "std     6655.218445             1.123918         14.935139   12587.288237   \n",
       "min    36990.000000             1.000000         35.000000   53020.320000   \n",
       "25%    50518.000000             2.000000         46.000000   66902.350000   \n",
       "50%    55291.000000             3.000000         60.000000   73028.670000   \n",
       "75%    60109.000000             4.000000         73.000000   80588.670000   \n",
       "max    77911.000000             4.000000         85.000000  123416.990000   \n",
       "\n",
       "         College_1    College_2    College_3       City_0       City_1  \\\n",
       "count  1589.000000  1589.000000  1589.000000  1589.000000  1589.000000   \n",
       "mean      0.363751     0.297042     0.339207     0.485840     0.514160   \n",
       "std       0.481230     0.457099     0.473589     0.499957     0.499957   \n",
       "min       0.000000     0.000000     0.000000     0.000000     0.000000   \n",
       "25%       0.000000     0.000000     0.000000     0.000000     0.000000   \n",
       "50%       0.000000     0.000000     0.000000     0.000000     1.000000   \n",
       "75%       1.000000     1.000000     1.000000     1.000000     1.000000   \n",
       "max       1.000000     1.000000     1.000000     1.000000     1.000000   \n",
       "\n",
       "       Role_Manager    EXP(Year)  \n",
       "count   1589.000000  1589.000000  \n",
       "mean       0.206419     3.253724  \n",
       "std        0.404862     1.175740  \n",
       "min        0.000000     1.500000  \n",
       "25%        0.000000     2.166667  \n",
       "50%        0.000000     3.250000  \n",
       "75%        0.000000     4.250000  \n",
       "max        1.000000     5.333333  "
      ]
     },
     "execution_count": 82,
     "metadata": {},
     "output_type": "execute_result"
    }
   ],
   "source": [
    "df.describe()"
   ]
  },
  {
   "cell_type": "markdown",
   "id": "b8d1e570",
   "metadata": {},
   "source": [
    "## Exploratory Data Analysis"
   ]
  },
  {
   "cell_type": "code",
   "execution_count": 26,
   "id": "1019d6f4",
   "metadata": {},
   "outputs": [
    {
     "data": {
      "text/plain": [
       "Text(0.5, 1.0, 'Correlation Matrix')"
      ]
     },
     "execution_count": 26,
     "metadata": {},
     "output_type": "execute_result"
    },
    {
     "data": {
      "image/png": "[encoded data removed]",
      "text/plain": [
       "<Figure size 720x576 with 2 Axes>"
      ]
     },
     "metadata": {
      "needs_background": "light"
     },
     "output_type": "display_data"
    }
   ],
   "source": [
    "# Visualizing the correlation matrix\n",
    "\n",
    "plt.figure(figsize=(10, 8))  \n",
    "sns.heatmap(df.corr(), cmap='Reds', annot=True)\n",
    "plt.title('Correlation Matrix')\n"
   ]
  },
  {
   "cell_type": "markdown",
   "id": "493cb504",
   "metadata": {},
   "source": [
    "Generated a heatmap of the correlation matrix for the DataFrame using the seaborn library. The plt.figure(figsize=(10, 8)) line sets the size of the plot. The sns.heatmap(df.corr(), cmap='Reds', annot=True) line creates a heatmap with correlations between different columns, and the color map is set to 'Reds'. The annot=True parameter adds numeric annotations to each cell. Finally, plt.title('Correlation Matrix') adds a title to the plot, indicating that it represents the correlation matrix. This visualization helps in understanding the relationships between different variables in the dataset.\n",
    "\n",
    "We can see that 'CTC' and 'Role_Manager' is highly correlated among the variables."
   ]
  },
  {
   "cell_type": "code",
   "execution_count": 27,
   "id": "505093cb",
   "metadata": {
    "scrolled": true
   },
   "outputs": [
    {
     "data": {
      "text/plain": [
       "<seaborn.axisgrid.JointGrid at 0x27eb9d31a30>"
      ]
     },
     "execution_count": 27,
     "metadata": {},
     "output_type": "execute_result"
    },
    {
     "data": {
      "image/png": "[encoded data removed]",
      "text/plain": [
       "<Figure size 432x432 with 3 Axes>"
      ]
     },
     "metadata": {
      "needs_background": "light"
     },
     "output_type": "display_data"
    }
   ],
   "source": [
    "# Visualizing joint plots for 'Previous CTC' and 'CTC'\n",
    "\n",
    "sns.jointplot(x= \"Previous CTC\", y=\"CTC\", data =df)"
   ]
  },
  {
   "cell_type": "markdown",
   "id": "5a28b684",
   "metadata": {},
   "source": [
    "Created a joint plot using seaborn to visualize the relationship between \"Previous CTC\" (x-axis) and \"CTC\" (y-axis) columns in the DataFrame df. The sns.jointplot() function combines scatter plots for the two variables along with histograms on the sides, providing insights into their distribution and correlation.\n",
    "\n",
    "\n",
    "\n",
    "\n",
    "\n"
   ]
  },
  {
   "cell_type": "code",
   "execution_count": 28,
   "id": "9bc3f965",
   "metadata": {},
   "outputs": [
    {
     "data": {
      "text/plain": [
       "<seaborn.axisgrid.JointGrid at 0x27eb9030070>"
      ]
     },
     "execution_count": 28,
     "metadata": {},
     "output_type": "execute_result"
    },
    {
     "data": {
      "image/png": "[encoded data removed]",
      "text/plain": [
       "<Figure size 432x432 with 3 Axes>"
      ]
     },
     "metadata": {
      "needs_background": "light"
     },
     "output_type": "display_data"
    }
   ],
   "source": [
    "#Visualizing joint plots for 'Graduation Marks' and 'CTC'\n",
    "\n",
    "sns.jointplot(x= \"Graduation Marks\", y=\"CTC\", data =df)"
   ]
  },
  {
   "cell_type": "code",
   "execution_count": 29,
   "id": "19c490b2",
   "metadata": {},
   "outputs": [
    {
     "data": {
      "image/png": "[encoded data removed]",
      "text/plain": [
       "<Figure size 576x360 with 1 Axes>"
      ]
     },
     "metadata": {
      "needs_background": "light"
     },
     "output_type": "display_data"
    }
   ],
   "source": [
    "#Visualizing boxplot for 'Previous CTC'\n",
    "\n",
    "plt.figure(figsize=(8, 5))\n",
    "sns.boxplot(x=df['Previous CTC'])\n",
    "plt.title(\"Previous CTC Outlier Detection\")\n",
    "plt.xlabel(\"Previous CTC\")\n",
    "plt.show()"
   ]
  },
  {
   "cell_type": "markdown",
   "id": "13ab77e5",
   "metadata": {},
   "source": [
    "Created a boxplot using seaborn to visualize the distribution of the \"Previous CTC\" column in the DataFrame df. The plot is used for outlier detection, highlighting the spread of values and identifying any potential outliers in the \"Previous CTC\" data. The box represents the interquartile range (IQR), and points beyond the whiskers may be considered outliers."
   ]
  },
  {
   "cell_type": "code",
   "execution_count": 30,
   "id": "61ba4319",
   "metadata": {
    "scrolled": false
   },
   "outputs": [
    {
     "data": {
      "image/png": "[encoded data removed]",
      "text/plain": [
       "<Figure size 576x360 with 1 Axes>"
      ]
     },
     "metadata": {
      "needs_background": "light"
     },
     "output_type": "display_data"
    }
   ],
   "source": [
    "# Visualizing boxplot for 'CTC'\n",
    "\n",
    "plt.figure(figsize=(8, 5))\n",
    "sns.boxplot(x=df['CTC'])\n",
    "plt.title(\"CTC Outlier Detection\")\n",
    "plt.xlabel(\"CTC\")\n",
    "plt.show()"
   ]
  },
  {
   "cell_type": "markdown",
   "id": "c1656a50",
   "metadata": {},
   "source": [
    "Again created a boxplot to visualize the distribution of the \"CTC\" column in the DataFrame df"
   ]
  },
  {
   "cell_type": "code",
   "execution_count": 31,
   "id": "c1e7f996",
   "metadata": {
    "scrolled": false
   },
   "outputs": [
    {
     "data": {
      "image/png": "[encoded data removed]",
      "text/plain": [
       "<Figure size 720x504 with 1 Axes>"
      ]
     },
     "metadata": {
      "needs_background": "light"
     },
     "output_type": "display_data"
    }
   ],
   "source": [
    "# Visualizing countplot for 'Role_Manager'\n",
    "\n",
    "plt.figure(figsize=(10, 7))\n",
    "ax = sns.countplot(x=\"Role_Manager\", data=df)\n",
    "\n",
    "# Annotating each bar with its count\n",
    "for p in ax.patches:\n",
    "    ax.annotate(f'{p.get_height()}', (p.get_x() + p.get_width() / 2., p.get_height()),\n",
    "                ha='center', va='center', xytext=(0, 10), textcoords='offset points')\n",
    "plt.show()"
   ]
  },
  {
   "cell_type": "markdown",
   "id": "5ec4c966",
   "metadata": {},
   "source": [
    "Created a countplot using seaborn to visualize the distribution of the \"Role_Manager\" column in the DataFrame df. The plot displays the count of occurrences for each category of the \"Role_Manager\" column, distinguishing between different roles. Annotations are added above each bar to indicate the count, providing additional information about the distribution."
   ]
  },
  {
   "cell_type": "markdown",
   "id": "afc761e3",
   "metadata": {},
   "source": [
    "## Data Preprocessing"
   ]
  },
  {
   "cell_type": "markdown",
   "id": "119bc968",
   "metadata": {},
   "source": [
    "### Handling Outliers"
   ]
  },
  {
   "cell_type": "markdown",
   "id": "13d0a8e2",
   "metadata": {},
   "source": [
    "When I tried to remove the outliers the r2_score decreased as well suggesting that it possessed valuable information.Therefore we will use the Winsorization which will help us to mitigate the impact of outliers by replacing extreme values with less extreme ones. The winsorize function in Python, particularly from the scipy.stats.mstats module, is a commonly used tool for applying winsorization to a dataset. It allows researchers to set limits or thresholds for trimming extreme values, thus providing a more robust analysis in the presence of outliers."
   ]
  },
  {
   "cell_type": "code",
   "execution_count": 141,
   "id": "54c8e000",
   "metadata": {},
   "outputs": [],
   "source": [
    "# Winsorizing outliers in 'Previous CTC' and 'CTC'\n",
    "\n",
    "threshold = 0.05\n",
    "\n",
    "# Winsorize the 'Previous CTC' column\n",
    "df['Previous CTC'] = winsorize(df['Previous CTC'], limits=[threshold, threshold])\n",
    "\n",
    "# Winsorize the 'CTC' column\n",
    "df['CTC'] = winsorize(df['CTC'], limits=[threshold, threshold])"
   ]
  },
  {
   "cell_type": "markdown",
   "id": "73aa7b94",
   "metadata": {},
   "source": [
    "The threshold parameter determines the proportion of values to be winsorized from each tail of the distribution. In this case, 5% of the extreme values on both ends of the distribution are replaced.This helps reduce the impact of outliers on modeling."
   ]
  },
  {
   "cell_type": "markdown",
   "id": "45448cc4",
   "metadata": {},
   "source": [
    "Now,Let's find the number of rows, and the number of columns in the DataFrame."
   ]
  },
  {
   "cell_type": "code",
   "execution_count": 33,
   "id": "d6b34635",
   "metadata": {},
   "outputs": [
    {
     "data": {
      "text/plain": [
       "(1589, 11)"
      ]
     },
     "execution_count": 33,
     "metadata": {},
     "output_type": "execute_result"
    }
   ],
   "source": [
    "df.shape"
   ]
  },
  {
   "cell_type": "markdown",
   "id": "4348f4e4",
   "metadata": {},
   "source": [
    "This shows that our Updated DataFrame has '1589' Rows and '11' Columns."
   ]
  },
  {
   "cell_type": "markdown",
   "id": "68edbbd4",
   "metadata": {},
   "source": [
    "This separation is a common practice in machine learning, where x contains the input features, and y contains the corresponding output or target variable. This allows for a clear distinction between the features used for prediction and the target variable being predicted."
   ]
  },
  {
   "cell_type": "code",
   "execution_count": 35,
   "id": "38349678",
   "metadata": {},
   "outputs": [],
   "source": [
    "# Creating features (X) and target variable (y)\n",
    "x = df.drop(\"CTC\", axis = 1)\n",
    "y = df[\"CTC\"]"
   ]
  },
  {
   "cell_type": "markdown",
   "id": "fc26244e",
   "metadata": {},
   "source": [
    "x represents the independent variables or features. It is obtained by dropping the column labeled \"CTC\" along the columns (axis=1) from the DataFrame df. Therefore, x contains all the columns in df except the \"CTC\" column.\n",
    "\n",
    "y represents the dependent variable or the target variable. It is assigned the values in the \"CTC\" column of the DataFrame df. This is the variable we want to predict or model."
   ]
  },
  {
   "cell_type": "code",
   "execution_count": 36,
   "id": "0b3e2a48",
   "metadata": {
    "scrolled": true
   },
   "outputs": [
    {
     "data": {
      "text/html": [
       "<div>\n",
       "<style scoped>\n",
       "    .dataframe tbody tr th:only-of-type {\n",
       "        vertical-align: middle;\n",
       "    }\n",
       "\n",
       "    .dataframe tbody tr th {\n",
       "        vertical-align: top;\n",
       "    }\n",
       "\n",
       "    .dataframe thead th {\n",
       "        text-align: right;\n",
       "    }\n",
       "</style>\n",
       "<table border=\"1\" class=\"dataframe\">\n",
       "  <thead>\n",
       "    <tr style=\"text-align: right;\">\n",
       "      <th></th>\n",
       "      <th>Previous CTC</th>\n",
       "      <th>Previous job change</th>\n",
       "      <th>Graduation Marks</th>\n",
       "      <th>College_1</th>\n",
       "      <th>College_2</th>\n",
       "      <th>College_3</th>\n",
       "      <th>City_0</th>\n",
       "      <th>City_1</th>\n",
       "      <th>Role_Manager</th>\n",
       "      <th>EXP(Year)</th>\n",
       "    </tr>\n",
       "  </thead>\n",
       "  <tbody>\n",
       "    <tr>\n",
       "      <th>0</th>\n",
       "      <td>55523.0</td>\n",
       "      <td>3</td>\n",
       "      <td>66</td>\n",
       "      <td>0</td>\n",
       "      <td>1</td>\n",
       "      <td>0</td>\n",
       "      <td>1</td>\n",
       "      <td>0</td>\n",
       "      <td>1</td>\n",
       "      <td>1.583333</td>\n",
       "    </tr>\n",
       "    <tr>\n",
       "      <th>1</th>\n",
       "      <td>57081.0</td>\n",
       "      <td>1</td>\n",
       "      <td>84</td>\n",
       "      <td>0</td>\n",
       "      <td>1</td>\n",
       "      <td>0</td>\n",
       "      <td>1</td>\n",
       "      <td>0</td>\n",
       "      <td>0</td>\n",
       "      <td>1.500000</td>\n",
       "    </tr>\n",
       "    <tr>\n",
       "      <th>2</th>\n",
       "      <td>60347.0</td>\n",
       "      <td>2</td>\n",
       "      <td>52</td>\n",
       "      <td>0</td>\n",
       "      <td>0</td>\n",
       "      <td>1</td>\n",
       "      <td>1</td>\n",
       "      <td>0</td>\n",
       "      <td>0</td>\n",
       "      <td>2.333333</td>\n",
       "    </tr>\n",
       "    <tr>\n",
       "      <th>3</th>\n",
       "      <td>49010.0</td>\n",
       "      <td>2</td>\n",
       "      <td>81</td>\n",
       "      <td>0</td>\n",
       "      <td>0</td>\n",
       "      <td>1</td>\n",
       "      <td>1</td>\n",
       "      <td>0</td>\n",
       "      <td>0</td>\n",
       "      <td>2.750000</td>\n",
       "    </tr>\n",
       "    <tr>\n",
       "      <th>4</th>\n",
       "      <td>57879.0</td>\n",
       "      <td>4</td>\n",
       "      <td>74</td>\n",
       "      <td>1</td>\n",
       "      <td>0</td>\n",
       "      <td>0</td>\n",
       "      <td>1</td>\n",
       "      <td>0</td>\n",
       "      <td>0</td>\n",
       "      <td>2.666667</td>\n",
       "    </tr>\n",
       "  </tbody>\n",
       "</table>\n",
       "</div>"
      ],
      "text/plain": [
       "   Previous CTC  Previous job change  Graduation Marks  College_1  College_2  \\\n",
       "0       55523.0                    3                66          0          1   \n",
       "1       57081.0                    1                84          0          1   \n",
       "2       60347.0                    2                52          0          0   \n",
       "3       49010.0                    2                81          0          0   \n",
       "4       57879.0                    4                74          1          0   \n",
       "\n",
       "   College_3  City_0  City_1  Role_Manager  EXP(Year)  \n",
       "0          0       1       0             1   1.583333  \n",
       "1          0       1       0             0   1.500000  \n",
       "2          1       1       0             0   2.333333  \n",
       "3          1       1       0             0   2.750000  \n",
       "4          0       1       0             0   2.666667  "
      ]
     },
     "execution_count": 36,
     "metadata": {},
     "output_type": "execute_result"
    }
   ],
   "source": [
    "x.head()"
   ]
  },
  {
   "cell_type": "code",
   "execution_count": 37,
   "id": "d0ffc293",
   "metadata": {},
   "outputs": [
    {
     "data": {
      "text/plain": [
       "0    71406.58\n",
       "1    68005.87\n",
       "2    76764.02\n",
       "3    82092.39\n",
       "4    73878.10\n",
       "Name: CTC, dtype: float64"
      ]
     },
     "execution_count": 37,
     "metadata": {},
     "output_type": "execute_result"
    }
   ],
   "source": [
    "y.head()"
   ]
  },
  {
   "cell_type": "markdown",
   "id": "9c7d3d95",
   "metadata": {},
   "source": [
    "## Data Splitting"
   ]
  },
  {
   "cell_type": "code",
   "execution_count": 38,
   "id": "1264e282",
   "metadata": {},
   "outputs": [],
   "source": [
    "# Splitting the data into training and testing sets\n",
    "\n",
    "X_train, X_test, y_train, y_test = train_test_split(x, y, test_size=0.1, random_state=42)"
   ]
  },
  {
   "cell_type": "markdown",
   "id": "07e96f34",
   "metadata": {},
   "source": [
    "Here,we are splitting the dataset (x for features and y for the target variable) into training and testing sets using the train_test_split function. The split is done with a test size of 10%, and a random state is set for reproducibility. This step is crucial for evaluating the model's performance on unseen data.\n",
    "\n",
    "\n",
    "\n",
    "\n",
    "\n"
   ]
  },
  {
   "cell_type": "markdown",
   "id": "5889146a",
   "metadata": {},
   "source": [
    "Let's quicky check the dimensions of the data after the train-test split.\n",
    "\n",
    "\n",
    "\n",
    "\n"
   ]
  },
  {
   "cell_type": "code",
   "execution_count": 39,
   "id": "d3edbd86",
   "metadata": {},
   "outputs": [
    {
     "name": "stdout",
     "output_type": "stream",
     "text": [
      "(1430, 10) (159, 10) (1430,) (159,)\n"
     ]
    }
   ],
   "source": [
    "#Displaying the shape of the training and test data\n",
    "\n",
    "print(X_train.shape,X_test.shape,y_train.shape,y_test.shape)"
   ]
  },
  {
   "cell_type": "markdown",
   "id": "5afa6bb7",
   "metadata": {},
   "source": [
    "## Model Training"
   ]
  },
  {
   "cell_type": "markdown",
   "id": "84044bb1",
   "metadata": {},
   "source": [
    "Let's initializes and fit several regression models, including Linear Regression (lr), K-Nearest Neighbors (knn), AdaBoost (ada), Support Vector Machine (svm), Ridge Regression (ridge), Lasso Regression (lasso), Decision Tree (dt), Random Forest (rf), and Gradient Boosting (gbm). Each model is trained on the training data (X_train and y_train)."
   ]
  },
  {
   "cell_type": "code",
   "execution_count": 40,
   "id": "9bac1e66",
   "metadata": {},
   "outputs": [],
   "source": [
    "# Initializing the regression models\n",
    "\n",
    "lr = LinearRegression().fit(X_train, y_train)\n",
    "knn = KNeighborsRegressor().fit(X_train, y_train)\n",
    "ada = AdaBoostRegressor().fit(X_train, y_train)\n",
    "svm = SVR().fit(X_train, y_train)\n",
    "ridge = Ridge().fit(X_train, y_train)\n",
    "lasso = Lasso().fit(X_train, y_train)\n",
    "dt = DecisionTreeRegressor().fit(X_train, y_train)\n",
    "rf = RandomForestRegressor().fit(X_train, y_train)\n",
    "gbm = GradientBoostingRegressor().fit(X_train, y_train)"
   ]
  },
  {
   "cell_type": "markdown",
   "id": "e273dabc",
   "metadata": {},
   "source": [
    "We'll create a list named models containing instances of various regression models"
   ]
  },
  {
   "cell_type": "code",
   "execution_count": 41,
   "id": "b0e00cf6",
   "metadata": {},
   "outputs": [],
   "source": [
    "models=[lr,ridge,lasso,knn,ada,svm,dt,rf,gbm]"
   ]
  },
  {
   "cell_type": "markdown",
   "id": "92ee403b",
   "metadata": {},
   "source": [
    "## Model Evaluation"
   ]
  },
  {
   "cell_type": "code",
   "execution_count": 42,
   "id": "5cacc76d",
   "metadata": {},
   "outputs": [],
   "source": [
    "def salary(Y,models):\n",
    "    y_pred=models.predict(X_test)\n",
    "    mse=mean_squared_error(y_test,y_pred)\n",
    "    rmse=np.sqrt(mean_squared_error(y_test,y_pred))\n",
    "    r2=r2_score(y_test,y_pred)*100\n",
    "    \n",
    "    return mse,rmse,r2"
   ]
  },
  {
   "cell_type": "markdown",
   "id": "7a3e8259",
   "metadata": {},
   "source": [
    "I've created a function named salary, that takes two parameters: Y (target variable) and models (a list of regression models). It evaluates each model's performance on the tesThis code block defines a function ML(Y, models) that takes a target variable Y and a list of regression models as input. It predicts the target variable on the test set using each model, calculates mean squared error (MSE), root mean squared error (RMSE), and R-squared score for evaluation, and returns these metrics. The function is then applied to a list of regression models, printing the evaluation metrics for each model.t set and returns Mean Squared Error (mse), Root Mean Squared Error (rmse), and R-squared (r2) for each model."
   ]
  },
  {
   "cell_type": "code",
   "execution_count": 84,
   "id": "32e8b216",
   "metadata": {},
   "outputs": [
    {
     "name": "stdout",
     "output_type": "stream",
     "text": [
      "\n",
      " LinearRegression() \n",
      "\n",
      "Different models success rate : (75765406.30149801, 8704.332616662694, 63.74095031627818)\n",
      "\n",
      " Ridge() \n",
      "\n",
      "Different models success rate : (75919913.9898578, 8713.203428697036, 63.667007573511626)\n",
      "\n",
      " Lasso() \n",
      "\n",
      "Different models success rate : (75779215.02968204, 8705.125790572014, 63.73434187337877)\n",
      "\n",
      " KNeighborsRegressor() \n",
      "\n",
      "Different models success rate : (197124633.24241778, 14040.108021038079, 5.662066376578645)\n",
      "\n",
      " AdaBoostRegressor() \n",
      "\n",
      "Different models success rate : (75608735.05577181, 8695.328346633714, 63.815928472670436)\n",
      "\n",
      " SVR() \n",
      "\n",
      "Different models success rate : (218110130.74461642, 14768.552086938531, -4.380962938698674)\n",
      "\n",
      " DecisionTreeRegressor() \n",
      "\n",
      "Different models success rate : (126102705.07905473, 11229.546076269278, 39.65102977844437)\n",
      "\n",
      " RandomForestRegressor() \n",
      "\n",
      "Different models success rate : (67017209.43736275, 8186.403938077008, 67.92757479602294)\n",
      "\n",
      " GradientBoostingRegressor() \n",
      "\n",
      "Different models success rate : (68113102.81573537, 8253.066267499333, 67.40311311365103)\n"
     ]
    }
   ],
   "source": [
    "for i in models:\n",
    "    print(\"\\n\",i,\"\\n\\nDifferent models success rate :\",salary(\"CTC\", i))"
   ]
  },
  {
   "cell_type": "markdown",
   "id": "6aa1276f",
   "metadata": {},
   "source": [
    "It iterates over a list of regression models, prints the details of each model, and calculates and displays the success rate metrics (mean squared error, root mean squared error, and R-squared score) for predicting the \"CTC\" variable using the specified regression model.\n",
    "\n",
    "#### Here it is seen that RandomForestRegressor() has Highest R2_score among all the models."
   ]
  },
  {
   "cell_type": "markdown",
   "id": "83a9f7d6",
   "metadata": {},
   "source": [
    "# Hyperparameter Tuning"
   ]
  },
  {
   "cell_type": "markdown",
   "id": "a2704d0f",
   "metadata": {},
   "source": [
    "Now we'll tuning the Hyperparameters which is the process of optimizing the hyperparameters of a machine learning model to improve its performance. It involves systematically searching through a predefined set of hyperparameter values or a search space to find the combination that yields the best model performance."
   ]
  },
  {
   "cell_type": "code",
   "execution_count": 75,
   "id": "2ef63586",
   "metadata": {},
   "outputs": [],
   "source": [
    "rf = RandomForestRegressor(n_estimators = 100, max_depth = 10, min_samples_split = 5,\n",
    "                          max_features = 7, verbose = 0)"
   ]
  },
  {
   "cell_type": "markdown",
   "id": "e683dcca",
   "metadata": {},
   "source": [
    "The performance metrics for the best RandomForestRegressor model after hyperparameter tuning are as follows:"
   ]
  },
  {
   "cell_type": "code",
   "execution_count": 77,
   "id": "b1208d44",
   "metadata": {},
   "outputs": [
    {
     "name": "stdout",
     "output_type": "stream",
     "text": [
      "Mean Squared Error: 66260849.85862667\n",
      "Root Mean Squared Error: 8140.076772280878\n",
      "R-squared: 68.28954579153263\n"
     ]
    }
   ],
   "source": [
    "rf.fit(X_train, y_train)\n",
    "\n",
    "y_rf_pred = rf.predict(X_test)\n",
    "mse = mean_squared_error(y_test, y_rf_pred)\n",
    "rmse = np.sqrt(mse)\n",
    "\n",
    "r2 = r2_score(y_test, y_rf_pred)*100\n",
    "print(\"Mean Squared Error:\", mse)\n",
    "print(\"Root Mean Squared Error:\", rmse)\n",
    "print(\"R-squared:\", r2)"
   ]
  },
  {
   "cell_type": "markdown",
   "id": "6909aff2",
   "metadata": {},
   "source": [
    "#### R-squared score suggests that the model explains a higher proportion of the variance in the target variable. In this case, the R-squared score of 68.29% indicates a moderately good fit of the model to the data."
   ]
  },
  {
   "cell_type": "markdown",
   "id": "6599d2d6",
   "metadata": {},
   "source": [
    "# Questions"
   ]
  },
  {
   "cell_type": "markdown",
   "id": "234e6579",
   "metadata": {},
   "source": [
    "#### 1. Your views about the problem statement?\n",
    "\n",
    "This is a Regression problem where we are tasked with constructing a machine learning model with the aim of predicting the salaries of recently recruited employees using the provided dataset. The objective is to build an accurate model that can estimate salaries by considering diverse features like college tier, city type, role, previous ctc, job change history, graduation marks, and experience. This model is intended to support the company in making well-informed decisions regarding the compensation of new hires, taking into account their qualifications and background."
   ]
  },
  {
   "cell_type": "markdown",
   "id": "0537d81b",
   "metadata": {},
   "source": [
    "#### 2. What will be your approach to solving this task?\n",
    "\n",
    "In tackling this task, my comprehensive approach unfolds through distinct stages:\n",
    "\n",
    "#### Data Exploration:\n",
    "Commencing with the import of essential libraries such as pandas, numpy, seaborn, and matplotlib, the preliminary step involves loading datasets (ML case Study.csv, Colleges.csv, cities.csv) using Pandas. I delve into exploring the structure and content of the data frames, utilizing methods like `info`, `isnull`, and `head`.\n",
    "#### Data Preprocessing:\n",
    "Addressing missing values is crucial, and I strategically fill NaN values in 'Tier 1,' 'Tier 3,' and 'non-metro cities' columns with \"Unknown\" using the `.fillna` method. This mitigates the impact of missing data on subsequent analyses. Furthermore, identifying and eliminating duplicate rows from the primary dataset (ML case Study.csv) is performed to ensure data integrity.\n",
    "#### Feature Engineering:\n",
    "An imperative component involves crafting functions to map college names to their corresponding tiers and converting city names to numerical values (0 for non-metro and 1 for metro). Subsequently, the creation of dummy variables for the 'City' and 'College' columns ensures the elimination of any residual ordinal relationships, enhancing the machine learning models' comprehension of categorical data. One-hot encoding is applied to the \"Role\" column, dropping the first category. Additionally, a new column, 'EXP(Year),' is generated based on the 'EXP(Month)' column, followed by the removal of the latter. Finally, renaming the newly created columns enhances clarity.\n",
    "#### Exploratory Data Analysis (EDA):\n",
    "The exploration of correlations within the dataset is facilitated through the creation of a heatmap. Moreover, relationships between features and the target variable (\"CTC\") are scrutinized using joint plots and box plots.To ensure robustness, outlier detection is executed on the \"Previous CTC\" and \"CTC\" columns through the utilization of box plots.\n",
    "#### Data Preprocessing \n",
    "In light of identified outliers, the Winsorization technique is implemented, mitigating the impact by replacing extreme values with less extreme counterparts.\n",
    "#### Data Splitting:\n",
    "The dataset is then divided into features (X) and the target variable (y), and further partitioned into training and testing sets, where the test size is set at 0.1.\n",
    "#### Model Training:\n",
    "An ensemble of regression models, including Linear Regression, K-Nearest Neighbors, AdaBoost, Support Vector Machine, Decision Tree, Random Forest, and Gradient Boosting, undergoes training.\n",
    "#### Model Evaluation:\n",
    "Performance evaluation is conducted employing metrics like Mean Squared Error (MSE), Root Mean Squared Error (RMSE), and R-squared. A comparative analysis of various models enables the identification of the most effective ones.\n",
    "#### Hyperparameter Tuning:\n",
    "To optimize model performance, a meticulous hyperparameter tuning process is executed for the RandomForestRegressor, enhancing its predictive capabilities.\n",
    "This approach ensures a comprehensive and systematic exploration of the data, careful preprocessing, effective feature engineering, and thoughtful model selection and evaluation, ultimately leading to a robust predictive model for salary estimation."
   ]
  },
  {
   "cell_type": "markdown",
   "id": "2d77956f",
   "metadata": {},
   "source": [
    "#### 3. What were the available ML model options you had to perform this task?\n",
    "\n",
    "Given that this is a regression task, there are several options available for utilizing various regression models to predict the salary of newly hired employees based on the provided data. The machine learning models suitable for this purpose include:\n",
    "\n",
    "- Linear Regression(lr)\n",
    "  Simple model\n",
    "  \n",
    "- Ridge Regression(ridge):\n",
    "  Similar to linear regression but includes regularization to prevent overfitting.\n",
    "\n",
    "- Lasso Regression(lasso):\n",
    "  Similar to ridge regression but uses L1 regularization.\n",
    "\n",
    "- Decision Tree Regressor(dt):\n",
    "  Non-linear model that can capture complex relationships in the data.\n",
    "\n",
    "- Random Forest Regressor(rf):\n",
    "  Ensemble of decision trees.\n",
    "  More robust than individual decision trees and less prone to overfitting.\n",
    "\n",
    "- Gradient Boosting Regressor(gbm):\n",
    "  Builds multiple weak learners sequentially, with each correcting the errors of the previous one.\n",
    "  Can capture complex relationships.\n",
    "\n",
    "- AdaBoost Regressor(ada):\n",
    "  Boosting algorithm that combines multiple weak learners to create a strong model.\n",
    "\n",
    "- Support Vector Regressor(svm):\n",
    "  Uses support vector machines for regression tasks.\n",
    "  Effective in high-dimensional spaces.\n",
    "\n",
    "- K-Nearest Neighbors Regressor(knn):\n",
    "  Non-parametric algorithm that predicts the target variable based on the average of k-nearest neighbors."
   ]
  },
  {
   "cell_type": "markdown",
   "id": "c97f1e3b",
   "metadata": {},
   "source": [
    "#### 4. Which model’s performance is best and what could be the possible reason for that?\n",
    "\n",
    "To determine the best-performing model for predicting the salary of newly hired employees, I employed several regression models and assessed their performance metrics. After evaluating models such as Linear Regression, Ridge Regression, Lasso Regression, K-Nearest Neighbors (KNN), AdaBoost, Support Vector Machine (SVM), Decision Tree, Random Forest, and Gradient Boosting, I observed that the Random Forest Regressor outperformed others. The Random Forest Regressor exhibited an R-squared value of 67.92%. These metrics suggest that the model performed well in predicting salaries compared to other models.Additionally, hyperparameter tuning was performed, optimizing the model's parameters to enhance R-squared value upto 68.29% .\n",
    "The Random Forest Regressor excelled possibly due to its ensemble nature, combining multiple decision trees to make more accurate predictions. Its ability to handle non-linear relationships and capture complex patterns in the data contributed to its superior performance."
   ]
  },
  {
   "cell_type": "markdown",
   "id": "2a71bfa9",
   "metadata": {},
   "source": [
    "#### 5. What steps can you take to improve this selected model’s performance even further?\n",
    "\n",
    "To enhance the Random Forest Regressor's performance, we can explore gathering more relevant data if possible. This additional information could improve the model's ability to make accurate predictions. We should also continue fine-tuning the model's hyperparameters using advanced optimization techniques like Bayesian optimization for a more efficient search for the best settings. Additionally, implementing robust cross-validation techniques will provide more reliable estimates of how well the model performs on new, unseen data. These steps collectively contribute to refining and optimizing the model for better overall results."
   ]
  }
 ],
 "metadata": {
  "kernelspec": {
   "display_name": "Python 3 (ipykernel)",
   "language": "python",
   "name": "python3"
  },
  "language_info": {
   "codemirror_mode": {
    "name": "ipython",
    "version": 3
   },
   "file_extension": ".py",
   "mimetype": "text/x-python",
   "name": "python",
   "nbconvert_exporter": "python",
   "pygments_lexer": "ipython3",
   "version": "3.9.12"
  }
 },
 "nbformat": 4,
 "nbformat_minor": 5
}
